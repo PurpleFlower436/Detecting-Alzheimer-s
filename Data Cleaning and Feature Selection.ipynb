{
 "cells": [
  {
   "cell_type": "code",
   "execution_count": 2,
   "id": "e538aa73",
   "metadata": {},
   "outputs": [],
   "source": [
    "import numpy as np\n",
    "import pandas as pd"
   ]
  },
  {
   "cell_type": "code",
   "execution_count": 17,
   "id": "b2ec809c",
   "metadata": {
    "scrolled": true
   },
   "outputs": [
    {
     "data": {
      "text/html": [
       "<div>\n",
       "<style scoped>\n",
       "    .dataframe tbody tr th:only-of-type {\n",
       "        vertical-align: middle;\n",
       "    }\n",
       "\n",
       "    .dataframe tbody tr th {\n",
       "        vertical-align: top;\n",
       "    }\n",
       "\n",
       "    .dataframe thead th {\n",
       "        text-align: right;\n",
       "    }\n",
       "</style>\n",
       "<table border=\"1\" class=\"dataframe\">\n",
       "  <thead>\n",
       "    <tr style=\"text-align: right;\">\n",
       "      <th></th>\n",
       "      <th>Group</th>\n",
       "      <th>M/F</th>\n",
       "      <th>Age</th>\n",
       "      <th>EDUC</th>\n",
       "      <th>SES</th>\n",
       "      <th>MMSE</th>\n",
       "      <th>CDR</th>\n",
       "      <th>eTIV</th>\n",
       "      <th>nWBV</th>\n",
       "      <th>ASF</th>\n",
       "    </tr>\n",
       "  </thead>\n",
       "  <tbody>\n",
       "    <tr>\n",
       "      <th>0</th>\n",
       "      <td>Nondemented</td>\n",
       "      <td>M</td>\n",
       "      <td>87</td>\n",
       "      <td>14</td>\n",
       "      <td>2.0</td>\n",
       "      <td>27.0</td>\n",
       "      <td>0.0</td>\n",
       "      <td>1987</td>\n",
       "      <td>0.696</td>\n",
       "      <td>0.883</td>\n",
       "    </tr>\n",
       "    <tr>\n",
       "      <th>1</th>\n",
       "      <td>Nondemented</td>\n",
       "      <td>M</td>\n",
       "      <td>88</td>\n",
       "      <td>14</td>\n",
       "      <td>2.0</td>\n",
       "      <td>30.0</td>\n",
       "      <td>0.0</td>\n",
       "      <td>2004</td>\n",
       "      <td>0.681</td>\n",
       "      <td>0.876</td>\n",
       "    </tr>\n",
       "    <tr>\n",
       "      <th>2</th>\n",
       "      <td>Demented</td>\n",
       "      <td>M</td>\n",
       "      <td>75</td>\n",
       "      <td>12</td>\n",
       "      <td>NaN</td>\n",
       "      <td>23.0</td>\n",
       "      <td>0.5</td>\n",
       "      <td>1678</td>\n",
       "      <td>0.736</td>\n",
       "      <td>1.046</td>\n",
       "    </tr>\n",
       "    <tr>\n",
       "      <th>3</th>\n",
       "      <td>Demented</td>\n",
       "      <td>M</td>\n",
       "      <td>76</td>\n",
       "      <td>12</td>\n",
       "      <td>NaN</td>\n",
       "      <td>28.0</td>\n",
       "      <td>0.5</td>\n",
       "      <td>1738</td>\n",
       "      <td>0.713</td>\n",
       "      <td>1.010</td>\n",
       "    </tr>\n",
       "    <tr>\n",
       "      <th>4</th>\n",
       "      <td>Demented</td>\n",
       "      <td>M</td>\n",
       "      <td>80</td>\n",
       "      <td>12</td>\n",
       "      <td>NaN</td>\n",
       "      <td>22.0</td>\n",
       "      <td>0.5</td>\n",
       "      <td>1698</td>\n",
       "      <td>0.701</td>\n",
       "      <td>1.034</td>\n",
       "    </tr>\n",
       "  </tbody>\n",
       "</table>\n",
       "</div>"
      ],
      "text/plain": [
       "         Group M/F  Age  EDUC  SES  MMSE  CDR  eTIV   nWBV    ASF\n",
       "0  Nondemented   M   87    14  2.0  27.0  0.0  1987  0.696  0.883\n",
       "1  Nondemented   M   88    14  2.0  30.0  0.0  2004  0.681  0.876\n",
       "2     Demented   M   75    12  NaN  23.0  0.5  1678  0.736  1.046\n",
       "3     Demented   M   76    12  NaN  28.0  0.5  1738  0.713  1.010\n",
       "4     Demented   M   80    12  NaN  22.0  0.5  1698  0.701  1.034"
      ]
     },
     "execution_count": 17,
     "metadata": {},
     "output_type": "execute_result"
    }
   ],
   "source": [
    "df = pd.read_csv('alzheimer.csv')\n",
    "df.head()\n"
   ]
  },
  {
   "cell_type": "code",
   "execution_count": 18,
   "id": "7333b0e4",
   "metadata": {},
   "outputs": [
    {
     "data": {
      "text/html": [
       "<div>\n",
       "<style scoped>\n",
       "    .dataframe tbody tr th:only-of-type {\n",
       "        vertical-align: middle;\n",
       "    }\n",
       "\n",
       "    .dataframe tbody tr th {\n",
       "        vertical-align: top;\n",
       "    }\n",
       "\n",
       "    .dataframe thead th {\n",
       "        text-align: right;\n",
       "    }\n",
       "</style>\n",
       "<table border=\"1\" class=\"dataframe\">\n",
       "  <thead>\n",
       "    <tr style=\"text-align: right;\">\n",
       "      <th></th>\n",
       "      <th>Group</th>\n",
       "      <th>M/F</th>\n",
       "      <th>Age</th>\n",
       "      <th>EDUC</th>\n",
       "      <th>SES</th>\n",
       "      <th>MMSE</th>\n",
       "      <th>CDR</th>\n",
       "      <th>eTIV</th>\n",
       "      <th>nWBV</th>\n",
       "      <th>ASF</th>\n",
       "    </tr>\n",
       "  </thead>\n",
       "  <tbody>\n",
       "    <tr>\n",
       "      <th>0</th>\n",
       "      <td>Nondemented</td>\n",
       "      <td>M</td>\n",
       "      <td>87</td>\n",
       "      <td>14</td>\n",
       "      <td>2.0</td>\n",
       "      <td>27.0</td>\n",
       "      <td>0.0</td>\n",
       "      <td>1987</td>\n",
       "      <td>0.696</td>\n",
       "      <td>0.883</td>\n",
       "    </tr>\n",
       "    <tr>\n",
       "      <th>1</th>\n",
       "      <td>Nondemented</td>\n",
       "      <td>M</td>\n",
       "      <td>88</td>\n",
       "      <td>14</td>\n",
       "      <td>2.0</td>\n",
       "      <td>30.0</td>\n",
       "      <td>0.0</td>\n",
       "      <td>2004</td>\n",
       "      <td>0.681</td>\n",
       "      <td>0.876</td>\n",
       "    </tr>\n",
       "    <tr>\n",
       "      <th>2</th>\n",
       "      <td>Demented</td>\n",
       "      <td>M</td>\n",
       "      <td>75</td>\n",
       "      <td>12</td>\n",
       "      <td>NaN</td>\n",
       "      <td>23.0</td>\n",
       "      <td>0.5</td>\n",
       "      <td>1678</td>\n",
       "      <td>0.736</td>\n",
       "      <td>1.046</td>\n",
       "    </tr>\n",
       "    <tr>\n",
       "      <th>3</th>\n",
       "      <td>Demented</td>\n",
       "      <td>M</td>\n",
       "      <td>76</td>\n",
       "      <td>12</td>\n",
       "      <td>NaN</td>\n",
       "      <td>28.0</td>\n",
       "      <td>0.5</td>\n",
       "      <td>1738</td>\n",
       "      <td>0.713</td>\n",
       "      <td>1.010</td>\n",
       "    </tr>\n",
       "    <tr>\n",
       "      <th>4</th>\n",
       "      <td>Demented</td>\n",
       "      <td>M</td>\n",
       "      <td>80</td>\n",
       "      <td>12</td>\n",
       "      <td>NaN</td>\n",
       "      <td>22.0</td>\n",
       "      <td>0.5</td>\n",
       "      <td>1698</td>\n",
       "      <td>0.701</td>\n",
       "      <td>1.034</td>\n",
       "    </tr>\n",
       "  </tbody>\n",
       "</table>\n",
       "</div>"
      ],
      "text/plain": [
       "         Group M/F  Age  EDUC  SES  MMSE  CDR  eTIV   nWBV    ASF\n",
       "0  Nondemented   M   87    14  2.0  27.0  0.0  1987  0.696  0.883\n",
       "1  Nondemented   M   88    14  2.0  30.0  0.0  2004  0.681  0.876\n",
       "2     Demented   M   75    12  NaN  23.0  0.5  1678  0.736  1.046\n",
       "3     Demented   M   76    12  NaN  28.0  0.5  1738  0.713  1.010\n",
       "4     Demented   M   80    12  NaN  22.0  0.5  1698  0.701  1.034"
      ]
     },
     "execution_count": 18,
     "metadata": {},
     "output_type": "execute_result"
    }
   ],
   "source": [
    "df =df.drop(df[df[\"Group\"]==\"Converted\"].index)\n",
    "df.head()"
   ]
  },
  {
   "cell_type": "code",
   "execution_count": 19,
   "id": "d139aca3",
   "metadata": {
    "scrolled": false
   },
   "outputs": [
    {
     "data": {
      "text/html": [
       "<div>\n",
       "<style scoped>\n",
       "    .dataframe tbody tr th:only-of-type {\n",
       "        vertical-align: middle;\n",
       "    }\n",
       "\n",
       "    .dataframe tbody tr th {\n",
       "        vertical-align: top;\n",
       "    }\n",
       "\n",
       "    .dataframe thead th {\n",
       "        text-align: right;\n",
       "    }\n",
       "</style>\n",
       "<table border=\"1\" class=\"dataframe\">\n",
       "  <thead>\n",
       "    <tr style=\"text-align: right;\">\n",
       "      <th></th>\n",
       "      <th>Group</th>\n",
       "      <th>M/F</th>\n",
       "      <th>Age</th>\n",
       "      <th>EDUC</th>\n",
       "      <th>SES</th>\n",
       "      <th>MMSE</th>\n",
       "      <th>CDR</th>\n",
       "      <th>eTIV</th>\n",
       "      <th>nWBV</th>\n",
       "      <th>ASF</th>\n",
       "    </tr>\n",
       "  </thead>\n",
       "  <tbody>\n",
       "    <tr>\n",
       "      <th>0</th>\n",
       "      <td>1</td>\n",
       "      <td>1</td>\n",
       "      <td>87</td>\n",
       "      <td>14</td>\n",
       "      <td>2.0</td>\n",
       "      <td>27.0</td>\n",
       "      <td>0.0</td>\n",
       "      <td>1987</td>\n",
       "      <td>0.696</td>\n",
       "      <td>0.883</td>\n",
       "    </tr>\n",
       "    <tr>\n",
       "      <th>1</th>\n",
       "      <td>1</td>\n",
       "      <td>1</td>\n",
       "      <td>88</td>\n",
       "      <td>14</td>\n",
       "      <td>2.0</td>\n",
       "      <td>30.0</td>\n",
       "      <td>0.0</td>\n",
       "      <td>2004</td>\n",
       "      <td>0.681</td>\n",
       "      <td>0.876</td>\n",
       "    </tr>\n",
       "    <tr>\n",
       "      <th>2</th>\n",
       "      <td>0</td>\n",
       "      <td>1</td>\n",
       "      <td>75</td>\n",
       "      <td>12</td>\n",
       "      <td>NaN</td>\n",
       "      <td>23.0</td>\n",
       "      <td>0.5</td>\n",
       "      <td>1678</td>\n",
       "      <td>0.736</td>\n",
       "      <td>1.046</td>\n",
       "    </tr>\n",
       "    <tr>\n",
       "      <th>3</th>\n",
       "      <td>0</td>\n",
       "      <td>1</td>\n",
       "      <td>76</td>\n",
       "      <td>12</td>\n",
       "      <td>NaN</td>\n",
       "      <td>28.0</td>\n",
       "      <td>0.5</td>\n",
       "      <td>1738</td>\n",
       "      <td>0.713</td>\n",
       "      <td>1.010</td>\n",
       "    </tr>\n",
       "    <tr>\n",
       "      <th>4</th>\n",
       "      <td>0</td>\n",
       "      <td>1</td>\n",
       "      <td>80</td>\n",
       "      <td>12</td>\n",
       "      <td>NaN</td>\n",
       "      <td>22.0</td>\n",
       "      <td>0.5</td>\n",
       "      <td>1698</td>\n",
       "      <td>0.701</td>\n",
       "      <td>1.034</td>\n",
       "    </tr>\n",
       "  </tbody>\n",
       "</table>\n",
       "</div>"
      ],
      "text/plain": [
       "   Group  M/F  Age  EDUC  SES  MMSE  CDR  eTIV   nWBV    ASF\n",
       "0      1    1   87    14  2.0  27.0  0.0  1987  0.696  0.883\n",
       "1      1    1   88    14  2.0  30.0  0.0  2004  0.681  0.876\n",
       "2      0    1   75    12  NaN  23.0  0.5  1678  0.736  1.046\n",
       "3      0    1   76    12  NaN  28.0  0.5  1738  0.713  1.010\n",
       "4      0    1   80    12  NaN  22.0  0.5  1698  0.701  1.034"
      ]
     },
     "execution_count": 19,
     "metadata": {},
     "output_type": "execute_result"
    }
   ],
   "source": [
    "from sklearn.preprocessing import LabelEncoder\n",
    "class_le = LabelEncoder()\n",
    "y = class_le.fit_transform(df['M/F'].values)\n",
    "df.iloc[:, 1] = y\n",
    "y = class_le.fit_transform(df['Group'].values)\n",
    "df.iloc[:, 0] = y\n",
    "df.head()"
   ]
  },
  {
   "cell_type": "code",
   "execution_count": 7,
   "id": "2e538181",
   "metadata": {},
   "outputs": [],
   "source": [
    "#from sklearn.model_selection import train_test_split\n",
    "#X, y = df.iloc[:, 1:].values, df.iloc[:, 0].values\n",
    "#X_train, X_test, y_train, y_test = train_test_split(X, y, test_size=0.3, random_state=0, stratify = y)\n",
    "#print('Class label distribution: %s' %np.bincount(y_train)[1:])"
   ]
  },
  {
   "cell_type": "code",
   "execution_count": 20,
   "id": "3269d62c",
   "metadata": {
    "scrolled": true
   },
   "outputs": [
    {
     "data": {
      "text/plain": [
       "Group     0\n",
       "M/F       0\n",
       "Age       0\n",
       "EDUC      0\n",
       "SES      19\n",
       "MMSE      2\n",
       "CDR       0\n",
       "eTIV      0\n",
       "nWBV      0\n",
       "ASF       0\n",
       "dtype: int64"
      ]
     },
     "execution_count": 20,
     "metadata": {},
     "output_type": "execute_result"
    }
   ],
   "source": [
    "df.isnull().sum()"
   ]
  },
  {
   "cell_type": "code",
   "execution_count": 22,
   "id": "b5da7e77",
   "metadata": {},
   "outputs": [
    {
     "data": {
      "text/plain": [
       "Group    0\n",
       "M/F      0\n",
       "Age      0\n",
       "EDUC     0\n",
       "SES      0\n",
       "MMSE     0\n",
       "CDR      0\n",
       "eTIV     0\n",
       "nWBV     0\n",
       "ASF      0\n",
       "dtype: int64"
      ]
     },
     "execution_count": 22,
     "metadata": {},
     "output_type": "execute_result"
    }
   ],
   "source": [
    "df = df.dropna(axis = 0)\n",
    "df.isnull().sum()"
   ]
  },
  {
   "cell_type": "code",
   "execution_count": 23,
   "id": "4bc6df54",
   "metadata": {},
   "outputs": [
    {
     "data": {
      "text/plain": [
       "Index(['Group', 'M/F', 'Age', 'EDUC', 'SES', 'MMSE', 'CDR', 'eTIV', 'nWBV',\n",
       "       'ASF'],\n",
       "      dtype='object')"
      ]
     },
     "execution_count": 23,
     "metadata": {},
     "output_type": "execute_result"
    }
   ],
   "source": [
    "df.columns"
   ]
  },
  {
   "cell_type": "code",
   "execution_count": 16,
   "id": "ee8c90fe",
   "metadata": {},
   "outputs": [
    {
     "data": {
      "text/plain": [
       "\"\\nfrom sklearn.impute import SimpleImputer\\nimport numpy as np\\n\\nimr = SimpleImputer(missing_values=np.nan, strategy='mean')\\nimr = imr.fit(df.values)\\nimputed_data = imr.transform(df.values)\\n#imputed_data\\ndf = pd.DataFrame(imputed_data, columns = ['Group', 'M/F', 'Age', 'EDUC', 'SES', 'MMSE', 'CDR', 'eTIV', 'nWBV',\\n       'ASF'])\\n\""
      ]
     },
     "execution_count": 16,
     "metadata": {},
     "output_type": "execute_result"
    }
   ],
   "source": [
    "'''\n",
    "from sklearn.impute import SimpleImputer\n",
    "import numpy as np\n",
    "\n",
    "imr = SimpleImputer(missing_values=np.nan, strategy='mean')\n",
    "imr = imr.fit(df.values)\n",
    "imputed_data = imr.transform(df.values)\n",
    "#imputed_data\n",
    "df = pd.DataFrame(imputed_data, columns = ['Group', 'M/F', 'Age', 'EDUC', 'SES', 'MMSE', 'CDR', 'eTIV', 'nWBV',\n",
    "       'ASF'])\n",
    "'''"
   ]
  },
  {
   "cell_type": "code",
   "execution_count": 24,
   "id": "d2a4e79c",
   "metadata": {},
   "outputs": [
    {
     "data": {
      "text/html": [
       "<div>\n",
       "<style scoped>\n",
       "    .dataframe tbody tr th:only-of-type {\n",
       "        vertical-align: middle;\n",
       "    }\n",
       "\n",
       "    .dataframe tbody tr th {\n",
       "        vertical-align: top;\n",
       "    }\n",
       "\n",
       "    .dataframe thead th {\n",
       "        text-align: right;\n",
       "    }\n",
       "</style>\n",
       "<table border=\"1\" class=\"dataframe\">\n",
       "  <thead>\n",
       "    <tr style=\"text-align: right;\">\n",
       "      <th></th>\n",
       "      <th>Group</th>\n",
       "      <th>M/F</th>\n",
       "      <th>Age</th>\n",
       "      <th>EDUC</th>\n",
       "      <th>SES</th>\n",
       "      <th>MMSE</th>\n",
       "      <th>CDR</th>\n",
       "      <th>eTIV</th>\n",
       "      <th>nWBV</th>\n",
       "      <th>ASF</th>\n",
       "    </tr>\n",
       "  </thead>\n",
       "  <tbody>\n",
       "    <tr>\n",
       "      <th>0</th>\n",
       "      <td>1</td>\n",
       "      <td>1</td>\n",
       "      <td>87</td>\n",
       "      <td>14</td>\n",
       "      <td>2.0</td>\n",
       "      <td>27.0</td>\n",
       "      <td>0.0</td>\n",
       "      <td>1987</td>\n",
       "      <td>0.696</td>\n",
       "      <td>0.883</td>\n",
       "    </tr>\n",
       "    <tr>\n",
       "      <th>1</th>\n",
       "      <td>1</td>\n",
       "      <td>1</td>\n",
       "      <td>88</td>\n",
       "      <td>14</td>\n",
       "      <td>2.0</td>\n",
       "      <td>30.0</td>\n",
       "      <td>0.0</td>\n",
       "      <td>2004</td>\n",
       "      <td>0.681</td>\n",
       "      <td>0.876</td>\n",
       "    </tr>\n",
       "    <tr>\n",
       "      <th>5</th>\n",
       "      <td>1</td>\n",
       "      <td>0</td>\n",
       "      <td>88</td>\n",
       "      <td>18</td>\n",
       "      <td>3.0</td>\n",
       "      <td>28.0</td>\n",
       "      <td>0.0</td>\n",
       "      <td>1215</td>\n",
       "      <td>0.710</td>\n",
       "      <td>1.444</td>\n",
       "    </tr>\n",
       "    <tr>\n",
       "      <th>6</th>\n",
       "      <td>1</td>\n",
       "      <td>0</td>\n",
       "      <td>90</td>\n",
       "      <td>18</td>\n",
       "      <td>3.0</td>\n",
       "      <td>27.0</td>\n",
       "      <td>0.0</td>\n",
       "      <td>1200</td>\n",
       "      <td>0.718</td>\n",
       "      <td>1.462</td>\n",
       "    </tr>\n",
       "    <tr>\n",
       "      <th>7</th>\n",
       "      <td>1</td>\n",
       "      <td>1</td>\n",
       "      <td>80</td>\n",
       "      <td>12</td>\n",
       "      <td>4.0</td>\n",
       "      <td>28.0</td>\n",
       "      <td>0.0</td>\n",
       "      <td>1689</td>\n",
       "      <td>0.712</td>\n",
       "      <td>1.039</td>\n",
       "    </tr>\n",
       "  </tbody>\n",
       "</table>\n",
       "</div>"
      ],
      "text/plain": [
       "   Group  M/F  Age  EDUC  SES  MMSE  CDR  eTIV   nWBV    ASF\n",
       "0      1    1   87    14  2.0  27.0  0.0  1987  0.696  0.883\n",
       "1      1    1   88    14  2.0  30.0  0.0  2004  0.681  0.876\n",
       "5      1    0   88    18  3.0  28.0  0.0  1215  0.710  1.444\n",
       "6      1    0   90    18  3.0  27.0  0.0  1200  0.718  1.462\n",
       "7      1    1   80    12  4.0  28.0  0.0  1689  0.712  1.039"
      ]
     },
     "execution_count": 24,
     "metadata": {},
     "output_type": "execute_result"
    }
   ],
   "source": [
    "df.head()"
   ]
  },
  {
   "cell_type": "code",
   "execution_count": 25,
   "id": "bb5074c8",
   "metadata": {},
   "outputs": [],
   "source": [
    "from sklearn.model_selection import train_test_split\n",
    "\n",
    "X, y = df.iloc[:, 1:].values, df.iloc[:, 0].values\n",
    "X_train, X_test, y_train, y_test = train_test_split(X, y, test_size=0.3, random_state=0, stratify = y)"
   ]
  },
  {
   "cell_type": "code",
   "execution_count": 26,
   "id": "1b087d99",
   "metadata": {},
   "outputs": [],
   "source": [
    "from sklearn.preprocessing import StandardScaler\n",
    "\n",
    "stdsc = StandardScaler()\n",
    "X_train_std = stdsc.fit_transform(X_train)\n",
    "X_test_std = stdsc.transform(X_test)"
   ]
  },
  {
   "cell_type": "code",
   "execution_count": 34,
   "id": "3681799a",
   "metadata": {},
   "outputs": [
    {
     "data": {
      "text/plain": [
       "LogisticRegression(multi_class='ovr', penalty='11', solver='liblinear')"
      ]
     },
     "execution_count": 34,
     "metadata": {},
     "output_type": "execute_result"
    }
   ],
   "source": [
    "from sklearn.linear_model import LogisticRegression\n",
    "LogisticRegression(penalty = '11', solver = 'liblinear', multi_class = 'ovr')"
   ]
  },
  {
   "cell_type": "code",
   "execution_count": 35,
   "id": "82ff8f34",
   "metadata": {},
   "outputs": [
    {
     "name": "stdout",
     "output_type": "stream",
     "text": [
      "Training accuracy:  0.995475113122172\n",
      "Test accuracy:  0.9895833333333334\n"
     ]
    }
   ],
   "source": [
    "lr = LogisticRegression(penalty = 'l1', C=1.0, solver='liblinear', multi_class='ovr')\n",
    "lr.fit(X_train_std, y_train)\n",
    "print('Training accuracy: ', lr.score(X_train_std, y_train))\n",
    "print('Test accuracy: ', lr.score(X_test_std, y_test))"
   ]
  },
  {
   "cell_type": "code",
   "execution_count": 36,
   "id": "2a662744",
   "metadata": {},
   "outputs": [
    {
     "data": {
      "text/plain": [
       "array([0.])"
      ]
     },
     "execution_count": 36,
     "metadata": {},
     "output_type": "execute_result"
    }
   ],
   "source": [
    "lr.intercept_"
   ]
  },
  {
   "cell_type": "code",
   "execution_count": 37,
   "id": "b502949b",
   "metadata": {},
   "outputs": [
    {
     "data": {
      "text/plain": [
       "array([[ 0.        ,  0.        ,  0.        ,  0.02500166,  0.58662866,\n",
       "        -6.02620697,  0.14206778,  0.        ,  0.        ]])"
      ]
     },
     "execution_count": 37,
     "metadata": {},
     "output_type": "execute_result"
    }
   ],
   "source": [
    "lr.coef_"
   ]
  },
  {
   "cell_type": "code",
   "execution_count": 31,
   "id": "ab6d74d4",
   "metadata": {},
   "outputs": [
    {
     "ename": "IndexError",
     "evalue": "index 1 is out of bounds for axis 0 with size 1",
     "output_type": "error",
     "traceback": [
      "\u001b[0;31m---------------------------------------------------------------------------\u001b[0m",
      "\u001b[0;31mIndexError\u001b[0m                                Traceback (most recent call last)",
      "Input \u001b[0;32mIn [31]\u001b[0m, in \u001b[0;36m<cell line: 12>\u001b[0;34m()\u001b[0m\n\u001b[1;32m     13\u001b[0m     lr \u001b[38;5;241m=\u001b[39m LogisticRegression(penalty\u001b[38;5;241m=\u001b[39m\u001b[38;5;124m'\u001b[39m\u001b[38;5;124ml1\u001b[39m\u001b[38;5;124m'\u001b[39m, C\u001b[38;5;241m=\u001b[39m\u001b[38;5;241m10.\u001b[39m\u001b[38;5;241m*\u001b[39m\u001b[38;5;241m*\u001b[39mc, solver\u001b[38;5;241m=\u001b[39m\u001b[38;5;124m'\u001b[39m\u001b[38;5;124mliblinear\u001b[39m\u001b[38;5;124m'\u001b[39m, \n\u001b[1;32m     14\u001b[0m                             multi_class\u001b[38;5;241m=\u001b[39m\u001b[38;5;124m'\u001b[39m\u001b[38;5;124movr\u001b[39m\u001b[38;5;124m'\u001b[39m, random_state\u001b[38;5;241m=\u001b[39m\u001b[38;5;241m0\u001b[39m)\n\u001b[1;32m     15\u001b[0m     lr\u001b[38;5;241m.\u001b[39mfit(X_train_std, y_train)\n\u001b[0;32m---> 16\u001b[0m     weights\u001b[38;5;241m.\u001b[39mappend(\u001b[43mlr\u001b[49m\u001b[38;5;241;43m.\u001b[39;49m\u001b[43mcoef_\u001b[49m\u001b[43m[\u001b[49m\u001b[38;5;241;43m1\u001b[39;49m\u001b[43m]\u001b[49m)\n\u001b[1;32m     17\u001b[0m     params\u001b[38;5;241m.\u001b[39mappend(\u001b[38;5;241m10\u001b[39m\u001b[38;5;241m*\u001b[39m\u001b[38;5;241m*\u001b[39mc)\n\u001b[1;32m     19\u001b[0m weights \u001b[38;5;241m=\u001b[39m np\u001b[38;5;241m.\u001b[39marray(weights)\n",
      "\u001b[0;31mIndexError\u001b[0m: index 1 is out of bounds for axis 0 with size 1"
     ]
    },
    {
     "data": {
      "image/png": "[encoded data removed]",
      "text/plain": [
       "<Figure size 432x288 with 1 Axes>"
      ]
     },
     "metadata": {
      "needs_background": "light"
     },
     "output_type": "display_data"
    }
   ],
   "source": [
    "import matplotlib.pyplot as plt\n",
    "\n",
    "fig = plt.figure()\n",
    "ax = plt.subplot(111)\n",
    "    \n",
    "colors = ['blue', 'green', 'red', 'cyan', \n",
    "          'magenta', 'yellow', 'black', \n",
    "          'pink', 'lightgreen', 'lightblue', \n",
    "          'gray', 'indigo', 'orange']\n",
    "\n",
    "weights, params = [], []\n",
    "for c in np.arange(-4., 6.):\n",
    "    lr = LogisticRegression(penalty='l1', C=10.**c, solver='liblinear', \n",
    "                            multi_class='ovr', random_state=0)\n",
    "    lr.fit(X_train_std, y_train)\n",
    "    weights.append(lr.coef_[1])\n",
    "    params.append(10**c)\n",
    "\n",
    "weights = np.array(weights)\n",
    "print(weights[:, 0])\n",
    "\n",
    "for column, color in zip(range(weights.shape[1]), colors):\n",
    "    plt.plot(params, weights[:, column],\n",
    "             label=df.columns[column],\n",
    "             color=color)\n",
    "plt.axhline(0, color='black', linestyle='--', linewidth=3)\n",
    "plt.xlim([10**(-5), 10**5])\n",
    "plt.ylabel('weight coefficient')\n",
    "plt.xlabel('C')\n",
    "plt.xscale('log')\n",
    "plt.legend(loc='upper left')\n",
    "ax.legend(loc='upper center', \n",
    "          bbox_to_anchor=(1.38, 1.03),\n",
    "          ncol=1, fancybox=True)\n",
    "#plt.savefig('images/04_07.png', dpi=300, \n",
    "#            bbox_inches='tight', pad_inches=0.2)\n",
    "plt.show()"
   ]
  },
  {
   "cell_type": "markdown",
   "id": "e501aa03",
   "metadata": {},
   "source": [
    "## Feature selection"
   ]
  },
  {
   "cell_type": "markdown",
   "id": "154bdce1",
   "metadata": {},
   "source": [
    "### Sequential feature selection algorithms"
   ]
  },
  {
   "cell_type": "code",
   "execution_count": 38,
   "id": "49e4d12b",
   "metadata": {},
   "outputs": [],
   "source": [
    "from sklearn.base import clone\n",
    "from itertools import combinations\n",
    "import numpy as np\n",
    "from sklearn.metrics import accuracy_score\n",
    "from sklearn.model_selection import train_test_split\n",
    "\n",
    "\n",
    "class SBS():\n",
    "    def __init__(self, estimator, k_features, scoring=accuracy_score,\n",
    "                 test_size=0.25, random_state=1):\n",
    "        self.scoring = scoring\n",
    "        self.estimator = clone(estimator)\n",
    "        self.k_features = k_features\n",
    "        self.test_size = test_size\n",
    "        self.random_state = random_state\n",
    "\n",
    "    def fit(self, X, y):\n",
    "        \n",
    "        X_train, X_test, y_train, y_test = \\\n",
    "            train_test_split(X, y, test_size=self.test_size,\n",
    "                             random_state=self.random_state)\n",
    "\n",
    "        dim = X_train.shape[1]\n",
    "        self.indices_ = tuple(range(dim))\n",
    "        self.subsets_ = [self.indices_]\n",
    "        score = self._calc_score(X_train, y_train, \n",
    "                                 X_test, y_test, self.indices_)\n",
    "        self.scores_ = [score]\n",
    "\n",
    "        while dim > self.k_features:\n",
    "            scores = []\n",
    "            subsets = []\n",
    "\n",
    "            for p in combinations(self.indices_, r=dim - 1):\n",
    "                score = self._calc_score(X_train, y_train, \n",
    "                                         X_test, y_test, p)\n",
    "                scores.append(score)\n",
    "                subsets.append(p)\n",
    "\n",
    "            best = np.argmax(scores)\n",
    "            self.indices_ = subsets[best]\n",
    "            self.subsets_.append(self.indices_)\n",
    "            dim -= 1\n",
    "\n",
    "            self.scores_.append(scores[best])\n",
    "        self.k_score_ = self.scores_[-1]\n",
    "\n",
    "        return self\n",
    "\n",
    "    def transform(self, X):\n",
    "        return X[:, self.indices_]\n",
    "\n",
    "    def _calc_score(self, X_train, y_train, X_test, y_test, indices):\n",
    "        self.estimator.fit(X_train[:, indices], y_train)\n",
    "        y_pred = self.estimator.predict(X_test[:, indices])\n",
    "        score = self.scoring(y_test, y_pred)\n",
    "        return score"
   ]
  },
  {
   "cell_type": "code",
   "execution_count": 39,
   "id": "c84841a2",
   "metadata": {},
   "outputs": [
    {
     "data": {
      "text/plain": [
       "<__main__.SBS at 0x7f7e3d7b5100>"
      ]
     },
     "execution_count": 39,
     "metadata": {},
     "output_type": "execute_result"
    }
   ],
   "source": [
    "import matplotlib.pyplot as plt\n",
    "from sklearn.neighbors import KNeighborsClassifier\n",
    "\n",
    "knn = KNeighborsClassifier(n_neighbors = 5)\n",
    "sbs = SBS(knn, k_features = 1)\n",
    "sbs.fit(X_train_std, y_train)"
   ]
  },
  {
   "cell_type": "code",
   "execution_count": 40,
   "id": "510dc2c5",
   "metadata": {},
   "outputs": [
    {
     "data": {
      "image/png": "[encoded data removed]",
      "text/plain": [
       "<Figure size 432x288 with 1 Axes>"
      ]
     },
     "metadata": {
      "needs_background": "light"
     },
     "output_type": "display_data"
    }
   ],
   "source": [
    "k_feat = [len(k) for k in sbs.subsets_]\n",
    "\n",
    "plt.plot(k_feat, sbs.scores_, marker='o')\n",
    "plt.ylim([0.7, 1.02])\n",
    "plt.ylabel('Accuracy')\n",
    "plt.xlabel('Number of features')\n",
    "plt.grid()\n",
    "plt.tight_layout()\n",
    "plt.show()"
   ]
  },
  {
   "cell_type": "code",
   "execution_count": 41,
   "id": "31d2169d",
   "metadata": {},
   "outputs": [
    {
     "name": "stdout",
     "output_type": "stream",
     "text": [
      "Index(['CDR'], dtype='object')\n"
     ]
    }
   ],
   "source": [
    "k3 = list(sbs.subsets_[8])\n",
    "print(df.columns[1:][k3])"
   ]
  },
  {
   "cell_type": "code",
   "execution_count": 42,
   "id": "bdb74b1a",
   "metadata": {},
   "outputs": [
    {
     "name": "stdout",
     "output_type": "stream",
     "text": [
      "Training accuracy:  0.9773755656108597\n",
      "Test accuracy:  0.9375\n"
     ]
    }
   ],
   "source": [
    "knn.fit(X_train_std, y_train)\n",
    "print('Training accuracy: ', knn.score(X_train_std, y_train))\n",
    "print('Test accuracy: ', knn.score(X_test_std, y_test))"
   ]
  },
  {
   "cell_type": "code",
   "execution_count": 43,
   "id": "5f59121d",
   "metadata": {},
   "outputs": [
    {
     "name": "stdout",
     "output_type": "stream",
     "text": [
      "Traning Accuracy:  0.995475113122172\n",
      "Test accuracy;  0.9895833333333334\n"
     ]
    }
   ],
   "source": [
    "knn.fit(X_train_std[:, k3], y_train)\n",
    "print('Traning Accuracy: ', knn.score(X_train_std[:, k3], y_train))\n",
    "print('Test accuracy; ', knn.score(X_test_std[:, k3], y_test))\n",
    "\n",
    "#The result  is disaster."
   ]
  },
  {
   "cell_type": "markdown",
   "id": "f4412b32",
   "metadata": {},
   "source": [
    "### Random Forests: Assessing Feature importance"
   ]
  },
  {
   "cell_type": "code",
   "execution_count": 46,
   "id": "3bfd74d4",
   "metadata": {},
   "outputs": [
    {
     "name": "stdout",
     "output_type": "stream",
     "text": [
      " 1 CDR                            0.668619\n",
      " 2 MMSE                           0.189568\n",
      " 3 nWBV                           0.046163\n",
      " 4 eTIV                           0.022264\n",
      " 5 EDUC                           0.019964\n",
      " 6 ASF                            0.018921\n",
      " 7 Age                            0.017019\n",
      " 8 SES                            0.009935\n",
      " 9 M/F                            0.007546\n"
     ]
    },
    {
     "data": {
      "image/png": "[encoded data removed]",
      "text/plain": [
       "<Figure size 432x288 with 1 Axes>"
      ]
     },
     "metadata": {
      "needs_background": "light"
     },
     "output_type": "display_data"
    }
   ],
   "source": [
    "from sklearn.ensemble import RandomForestClassifier\n",
    "feat_labels = df.columns[1:]\n",
    "forest = RandomForestClassifier(n_estimators = 500, random_state = 1)\n",
    "\n",
    "forest.fit(X_train, y_train)\n",
    "importances = forest.feature_importances_\n",
    "\n",
    "indices = np.argsort(importances)[::-1]\n",
    "for f in range(X_train.shape[1]):\n",
    "    print(\"%2d %-*s %f\" %(f + 1, 30, feat_labels[indices[f]], importances[indices[f]]))\n",
    "    \n",
    "plt.title('Feature Importance')\n",
    "plt.bar(range(X_train.shape[1]), importances[indices], align='center')\n",
    "\n",
    "plt.xticks(range(X_train.shape[1]), feat_labels[indices], rotation=90)\n",
    "plt.xlim ([-1, X_train.shape[1]])\n",
    "\n",
    "plt.tight_layout()\n",
    "plt.show()"
   ]
  },
  {
   "cell_type": "code",
   "execution_count": 47,
   "id": "ff76af5b",
   "metadata": {},
   "outputs": [
    {
     "name": "stdout",
     "output_type": "stream",
     "text": [
      "Number of features that meet this threshold criterion: 2\n",
      " 1) CDR                            0.668619\n",
      " 2) MMSE                           0.189568\n"
     ]
    }
   ],
   "source": [
    "from sklearn.feature_selection import SelectFromModel\n",
    "\n",
    "sfm = SelectFromModel(forest, threshold=0.1, prefit=True)\n",
    "X_selected = sfm.transform(X_train)\n",
    "print('Number of features that meet this threshold', 'criterion:', X_selected.shape[1])\n",
    "\n",
    "for f in range(X_selected.shape[1]):\n",
    "    print(\"%2d) %-*s %f\" % (f + 1, 30, \n",
    "                            feat_labels[indices[f]], \n",
    "                            importances[indices[f]]))"
   ]
  },
  {
   "cell_type": "markdown",
   "id": "3d38b5e7",
   "metadata": {},
   "source": [
    "#### Based on the above result, the 5th column (MMSE) and the 6th column (CDR) are good option for feature selection to work with"
   ]
  },
  {
   "cell_type": "markdown",
   "id": "ffa806ec",
   "metadata": {},
   "source": [
    "### ---------------------------------------------------------------------------------------------------------------"
   ]
  },
  {
   "cell_type": "markdown",
   "id": "a41a5ac1",
   "metadata": {},
   "source": [
    "### Compressing Data via Dimensionality Reduction"
   ]
  },
  {
   "cell_type": "code",
   "execution_count": 48,
   "id": "18acefe6",
   "metadata": {},
   "outputs": [],
   "source": [
    "from sklearn.preprocessing import StandardScaler\n",
    "\n",
    "stdsc = StandardScaler()\n",
    "X_train_std = stdsc.fit_transform(X_train)\n",
    "X_test_std = stdsc.transform(X_test)"
   ]
  },
  {
   "cell_type": "code",
   "execution_count": 49,
   "id": "59c959e3",
   "metadata": {},
   "outputs": [
    {
     "name": "stdout",
     "output_type": "stream",
     "text": [
      "\n",
      "\n",
      "cov_mat: \n",
      "[[ 1.00454545 -0.03685898  0.01486469 -0.01181025 -0.13855066  0.17319809\n",
      "   0.53467955 -0.25251605 -0.52339131]\n",
      " [-0.03685898  1.00454545 -0.08664272  0.02168459  0.02310512 -0.08339799\n",
      "   0.06514404 -0.49461516 -0.05842469]\n",
      " [ 0.01486469 -0.08664272  1.00454545 -0.71522084  0.21848442 -0.19990265\n",
      "   0.25696165  0.00802147 -0.24432263]\n",
      " [-0.01181025  0.02168459 -0.71522084  1.00454545 -0.15685257  0.12778926\n",
      "  -0.29550882  0.03307132  0.28941562]\n",
      " [-0.13855066  0.02310512  0.21848442 -0.15685257  1.00454545 -0.74932636\n",
      "   0.05398329  0.37112117 -0.04007657]\n",
      " [ 0.17319809 -0.08339799 -0.19990265  0.12778926 -0.74932636  1.00454545\n",
      "  -0.04813817 -0.36745783  0.03595024]\n",
      " [ 0.53467955  0.06514404  0.25696165 -0.29550882  0.05398329 -0.04813817\n",
      "   1.00454545 -0.20206059 -0.99214903]\n",
      " [-0.25251605 -0.49461516  0.00802147  0.03307132  0.37112117 -0.36745783\n",
      "  -0.20206059  1.00454545  0.20667304]\n",
      " [-0.52339131 -0.05842469 -0.24432263  0.28941562 -0.04007657  0.03595024\n",
      "  -0.99214903  0.20667304  1.00454545]]\n",
      "\n",
      "\n",
      "EigneValues \n",
      "[2.73569086 2.28529188 1.29694045 1.31805491 0.53845188 0.01200747\n",
      " 0.33282487 0.24385388 0.2777929 ]\n",
      "\n",
      "\n",
      "EigenVectors: \n",
      "[[ 0.36682805 -0.23448184  0.28787695  0.19408237 -0.77720932 -0.01730539\n",
      "  -0.29062246 -0.02976619 -0.01459797]\n",
      " [ 0.07059275 -0.13972301 -0.00184846 -0.79698129  0.06541925 -0.01068455\n",
      "  -0.51762335  0.19373036 -0.17450597]\n",
      " [ 0.3027909   0.31953744 -0.52853183  0.04913727 -0.19670955 -0.01227828\n",
      "   0.16504137  0.26137978 -0.62453957]\n",
      " [-0.32471589 -0.26923827  0.55810453 -0.01801389  0.00318476 -0.00211962\n",
      "   0.34264331  0.25321298 -0.57334919]\n",
      " [ 0.03997503  0.53953961  0.28643007 -0.21990689 -0.21281847 -0.00618172\n",
      "   0.24424279  0.55785033  0.40089443]\n",
      " [-0.02853862 -0.53204889 -0.29876046  0.27487101  0.1057288   0.00157438\n",
      "  -0.08438256  0.69497087  0.22363286]\n",
      " [ 0.55988217 -0.03508029  0.23235083  0.0574036   0.34022245  0.71242422\n",
      "   0.04910439  0.0361052  -0.03169907]\n",
      " [-0.1955847   0.41670564  0.21832999  0.43964081  0.21455667 -0.00765178\n",
      "  -0.65531846  0.18192258 -0.19626457]\n",
      " [-0.55605506  0.04300114 -0.23095886 -0.06262243 -0.36702185  0.70127284\n",
      "  -0.06582606 -0.02377826  0.0174067 ]]\n"
     ]
    }
   ],
   "source": [
    "cov_mat = np.cov(X_train_std.T)\n",
    "eigen_vals, eigen_vecs = np.linalg.eig(cov_mat)\n",
    "print('\\n\\ncov_mat: \\n%s' %cov_mat)\n",
    "\n",
    "print('\\n\\nEigneValues \\n%s'% eigen_vals)\n",
    "print('\\n\\nEigenVectors: \\n%s'% eigen_vecs)"
   ]
  },
  {
   "cell_type": "code",
   "execution_count": 50,
   "id": "30615344",
   "metadata": {},
   "outputs": [
    {
     "name": "stdout",
     "output_type": "stream",
     "text": [
      "var_exp [0.3025902407131817, 0.2527723548342333, 0.14578787302368676, 0.1434524376437399, 0.05955727151800596, 0.03681320795564802, 0.030726213236135565, 0.026972274148189895, 0.0013281269271789306]\n",
      "Cum_var_exp [0.30259024 0.5553626  0.70115047 0.84460291 0.90416018 0.94097339\n",
      " 0.9716996  0.99867187 1.        ]\n"
     ]
    },
    {
     "data": {
      "image/png": "[encoded data removed]",
      "text/plain": [
       "<Figure size 432x288 with 1 Axes>"
      ]
     },
     "metadata": {
      "needs_background": "light"
     },
     "output_type": "display_data"
    }
   ],
   "source": [
    "tot = sum(eigen_vals)\n",
    "\n",
    "var_exp = [(i / tot) for i in sorted(eigen_vals, reverse = True)]\n",
    "print('var_exp', var_exp)\n",
    "cum_var_exp = np.cumsum(var_exp)\n",
    "print('Cum_var_exp', cum_var_exp)\n",
    "\n",
    "import matplotlib.pyplot as plt\n",
    "\n",
    "plt.bar(range(1, 10), var_exp, alpha=0.5, align='center', label='Individual explained varience')\n",
    "plt.step(range(1, 10), cum_var_exp, where='mid', label='Comulative explained variance')\n",
    "\n",
    "plt.ylabel('Explained varience ratio')\n",
    "plt.xlabel('Principal component index')\n",
    "plt.legend(loc='best')\n",
    "plt.tight_layout()\n",
    "plt.show()\n",
    "\n",
    "# Up to the 4th columns of the data, it covering almost 85% of the data. "
   ]
  },
  {
   "cell_type": "code",
   "execution_count": 51,
   "id": "cc198c3d",
   "metadata": {},
   "outputs": [
    {
     "name": "stdout",
     "output_type": "stream",
     "text": [
      "[(2.7356908580841717, array([ 0.36682805,  0.07059275,  0.3027909 , -0.32471589,  0.03997503,\n",
      "       -0.02853862,  0.55988217, -0.1955847 , -0.55605506])), (2.2852918807513163, array([-0.23448184, -0.13972301,  0.31953744, -0.26923827,  0.53953961,\n",
      "       -0.53204889, -0.03508029,  0.41670564,  0.04300114])), (1.2969404476063564, array([ 0.28787695, -0.00184846, -0.52853183,  0.55810453,  0.28643007,\n",
      "       -0.29876046,  0.23235083,  0.21832999, -0.23095886])), (1.3180549065641485, array([ 0.19408237, -0.79698129,  0.04913727, -0.01801389, -0.21990689,\n",
      "        0.27487101,  0.0574036 ,  0.43964081, -0.06262243])), (0.5384518774968806, array([-0.77720932,  0.06541925, -0.19670955,  0.00318476, -0.21281847,\n",
      "        0.1057288 ,  0.34022245,  0.21455667, -0.36702185])), (0.012007474809813139, array([-0.01730539, -0.01068455, -0.01227828, -0.00211962, -0.00618172,\n",
      "        0.00157438,  0.71242422, -0.00765178,  0.70127284])), (0.3328248664717447, array([-0.29062246, -0.51762335,  0.16504137,  0.34264331,  0.24424279,\n",
      "       -0.08438256,  0.04910439, -0.65531846, -0.06582606])), (0.24385387854886204, array([-0.02976619,  0.19373036,  0.26137978,  0.25321298,  0.55785033,\n",
      "        0.69497087,  0.0361052 ,  0.18192258, -0.02377826])), (0.277792900575789, array([-0.01459797, -0.17450597, -0.62453957, -0.57334919,  0.40089443,\n",
      "        0.22363286, -0.03169907, -0.19626457,  0.0174067 ]))]\n",
      "Eigen Pairs:  [(2.7356908580841717, array([ 0.36682805,  0.07059275,  0.3027909 , -0.32471589,  0.03997503,\n",
      "       -0.02853862,  0.55988217, -0.1955847 , -0.55605506])), (2.2852918807513163, array([-0.23448184, -0.13972301,  0.31953744, -0.26923827,  0.53953961,\n",
      "       -0.53204889, -0.03508029,  0.41670564,  0.04300114])), (1.3180549065641485, array([ 0.19408237, -0.79698129,  0.04913727, -0.01801389, -0.21990689,\n",
      "        0.27487101,  0.0574036 ,  0.43964081, -0.06262243])), (1.2969404476063564, array([ 0.28787695, -0.00184846, -0.52853183,  0.55810453,  0.28643007,\n",
      "       -0.29876046,  0.23235083,  0.21832999, -0.23095886])), (0.5384518774968806, array([-0.77720932,  0.06541925, -0.19670955,  0.00318476, -0.21281847,\n",
      "        0.1057288 ,  0.34022245,  0.21455667, -0.36702185])), (0.3328248664717447, array([-0.29062246, -0.51762335,  0.16504137,  0.34264331,  0.24424279,\n",
      "       -0.08438256,  0.04910439, -0.65531846, -0.06582606])), (0.277792900575789, array([-0.01459797, -0.17450597, -0.62453957, -0.57334919,  0.40089443,\n",
      "        0.22363286, -0.03169907, -0.19626457,  0.0174067 ])), (0.24385387854886204, array([-0.02976619,  0.19373036,  0.26137978,  0.25321298,  0.55785033,\n",
      "        0.69497087,  0.0361052 ,  0.18192258, -0.02377826])), (0.012007474809813139, array([-0.01730539, -0.01068455, -0.01227828, -0.00211962, -0.00618172,\n",
      "        0.00157438,  0.71242422, -0.00765178,  0.70127284]))]\n"
     ]
    }
   ],
   "source": [
    "# Make a list of (eigenvalue, eigenvector) tuples\n",
    "eigen_pairs = [(np.abs(eigen_vals[i]), eigen_vecs[:, i]) for i in range(len(eigen_vals))]\n",
    "print(eigen_pairs)\n",
    "\n",
    "# Sort the (eigenvalue, eigenvector) tuples from high to low\n",
    "eigen_pairs.sort (key=lambda k: k[0], reverse=True)\n",
    "print('Eigen Pairs: ', eigen_pairs)"
   ]
  },
  {
   "cell_type": "code",
   "execution_count": 52,
   "id": "e08ca593",
   "metadata": {},
   "outputs": [
    {
     "name": "stdout",
     "output_type": "stream",
     "text": [
      "Matrix W: \n",
      " [[ 0.36682805 -0.23448184]\n",
      " [ 0.07059275 -0.13972301]\n",
      " [ 0.3027909   0.31953744]\n",
      " [-0.32471589 -0.26923827]\n",
      " [ 0.03997503  0.53953961]\n",
      " [-0.02853862 -0.53204889]\n",
      " [ 0.55988217 -0.03508029]\n",
      " [-0.1955847   0.41670564]\n",
      " [-0.55605506  0.04300114]]\n"
     ]
    }
   ],
   "source": [
    "w =  np.hstack((eigen_pairs[0][1][:, np.newaxis], eigen_pairs[1][1][:, np.newaxis]))\n",
    "print('Matrix W: \\n', w)"
   ]
  },
  {
   "cell_type": "code",
   "execution_count": 53,
   "id": "5c5b852c",
   "metadata": {},
   "outputs": [
    {
     "data": {
      "text/plain": [
       "array([0.44068843, 1.0661304 ])"
      ]
     },
     "execution_count": 53,
     "metadata": {},
     "output_type": "execute_result"
    }
   ],
   "source": [
    "X_train_std[0].dot(w)"
   ]
  },
  {
   "cell_type": "code",
   "execution_count": 54,
   "id": "d81c71ab",
   "metadata": {},
   "outputs": [
    {
     "name": "stdout",
     "output_type": "stream",
     "text": [
      "[[ 4.40688429e-01  1.06613040e+00]\n",
      " [-1.22963683e+00  4.54092510e-01]\n",
      " [-9.07970778e-01  1.27097820e+00]\n",
      " [ 1.76942123e+00  5.10638573e-01]\n",
      " [ 3.07248918e+00  1.48103797e+00]\n",
      " [-1.87484241e+00  2.69464605e-01]\n",
      " [ 3.05575458e+00  9.34989650e-01]\n",
      " [-9.65003633e-01 -2.89536672e+00]\n",
      " [ 1.23512685e+00 -1.84294336e+00]\n",
      " [ 1.16930166e+00  7.17488518e-01]\n",
      " [ 2.63042187e+00  6.64461146e-01]\n",
      " [ 2.25930352e+00  8.41658023e-01]\n",
      " [-1.90383399e+00  1.34632278e-01]\n",
      " [-1.60605946e-01  7.52981958e-01]\n",
      " [ 2.21267190e+00  8.17514450e-01]\n",
      " [-3.67413882e-03 -3.04691152e-01]\n",
      " [-1.30917242e-01  1.05365279e+00]\n",
      " [ 2.97540425e+00  9.41967303e-01]\n",
      " [ 2.57344729e+00 -1.08061929e+00]\n",
      " [-5.48104045e-01  3.06130010e+00]\n",
      " [-1.77035265e+00  9.30941394e-02]\n",
      " [ 3.19878476e+00  6.42321280e-01]\n",
      " [ 2.26093313e+00  1.40861310e+00]\n",
      " [-1.42608163e+00  2.29637018e+00]\n",
      " [-4.32852014e+00 -1.93467318e+00]\n",
      " [-1.17311874e+00  8.50231569e-01]\n",
      " [-7.93975009e-01 -4.86361536e-01]\n",
      " [-2.21335931e+00 -2.58833563e+00]\n",
      " [-1.95556745e+00  2.05987927e+00]\n",
      " [ 1.67897196e+00  8.90464431e-03]\n",
      " [ 1.92333821e+00  8.54496302e-02]\n",
      " [ 1.08903512e+00 -3.30499146e+00]\n",
      " [-1.52734834e+00 -9.45065210e-01]\n",
      " [-5.78345008e-01  1.83660704e+00]\n",
      " [ 5.47367823e-01  1.43254097e+00]\n",
      " [ 2.14004219e+00 -2.06862127e+00]\n",
      " [-1.11722838e-01  1.12957811e+00]\n",
      " [ 1.09437856e+00  1.34207720e+00]\n",
      " [ 3.66566536e+00 -4.36508870e-02]\n",
      " [-1.13473026e+00 -4.55795507e+00]\n",
      " [ 2.43750745e+00 -1.89506172e-01]\n",
      " [-1.46139107e+00  1.06103302e+00]\n",
      " [-3.88625531e-01  1.82052117e+00]\n",
      " [-1.43466327e+00  9.93730915e-01]\n",
      " [ 2.01900451e-01  2.22263966e+00]\n",
      " [ 1.94825625e+00  8.93601307e-01]\n",
      " [ 1.91892660e+00  3.32488978e-01]\n",
      " [-4.26102937e+00 -1.45832724e+00]\n",
      " [-1.94898250e+00  3.31762176e-01]\n",
      " [-5.43974462e-01  3.82715062e-01]\n",
      " [-1.22090069e-01  1.71653075e+00]\n",
      " [ 1.82567701e+00 -2.94942418e-01]\n",
      " [ 2.33842001e-01  9.57144299e-01]\n",
      " [-2.85998908e+00  1.97715142e+00]\n",
      " [-1.91477498e+00  1.00967259e+00]\n",
      " [-4.97791355e-01  1.14813665e+00]\n",
      " [-1.34103595e+00 -8.37014127e-02]\n",
      " [-1.89240527e-02 -4.90971229e-01]\n",
      " [-5.85415768e-02 -8.02725023e-01]\n",
      " [-1.39818452e+00  4.00294702e-01]\n",
      " [-5.35031809e-01  1.84830117e+00]\n",
      " [-3.48203950e-01  1.10708375e+00]\n",
      " [-6.02301070e-01  1.08438812e+00]\n",
      " [-2.03050007e+00  2.10277808e+00]\n",
      " [ 1.50539609e+00 -1.37534626e+00]\n",
      " [ 1.13797800e+00 -5.63530826e-01]\n",
      " [ 3.58836449e+00  6.47565488e-01]\n",
      " [ 1.69273299e-01  6.50154959e-03]\n",
      " [ 1.64283959e+00  7.87241306e-01]\n",
      " [ 7.63976628e-02 -2.59956540e+00]\n",
      " [-2.65966178e-01  1.21460507e+00]\n",
      " [-2.78376671e-01 -8.82716049e-01]\n",
      " [ 1.91546391e+00  8.06062333e-02]\n",
      " [-2.18083671e+00 -1.47880594e+00]\n",
      " [ 1.20975453e+00  1.61537025e+00]\n",
      " [-7.84386752e-01 -1.29305003e+00]\n",
      " [-1.78316071e+00  1.17800432e+00]\n",
      " [ 1.69903082e+00  3.26501907e-01]\n",
      " [-1.32664404e+00  1.25848697e+00]\n",
      " [ 6.47084600e-01  1.00011761e+00]\n",
      " [-1.79456377e+00  1.88572094e+00]\n",
      " [-3.23720501e-01  4.37221510e-01]\n",
      " [ 1.63565511e+00 -6.69195691e-01]\n",
      " [-6.11079973e-01 -9.08430072e-01]\n",
      " [-1.73498507e+00  7.02011877e-01]\n",
      " [ 4.39151234e-01  8.31877576e-01]\n",
      " [-1.66189651e+00  6.31495674e-01]\n",
      " [-7.19936487e-01  1.65530515e+00]\n",
      " [ 1.21797684e-01 -1.92888872e+00]\n",
      " [ 3.10134110e+00  6.50484925e-01]\n",
      " [ 1.25961045e+00 -2.14139821e+00]\n",
      " [ 2.80641352e+00  6.43555803e-01]\n",
      " [-2.28933356e+00 -2.46304799e+00]\n",
      " [-1.52102176e+00 -3.84646124e-01]\n",
      " [-1.27156711e+00  5.16036745e-01]\n",
      " [ 5.75801202e-01  1.35597835e+00]\n",
      " [-1.78488150e+00  1.27602223e+00]\n",
      " [-2.14212763e+00  2.27854954e+00]\n",
      " [ 2.21865125e+00 -4.61832656e+00]\n",
      " [ 9.78281624e-01 -2.83964334e-01]\n",
      " [-2.03934942e+00 -2.36190166e+00]\n",
      " [-3.86008859e-01  8.24402264e-01]\n",
      " [-1.61832800e+00  2.67817352e+00]\n",
      " [-9.15725964e-01  8.08229581e-02]\n",
      " [-2.90347002e+00  7.00312272e-01]\n",
      " [-5.71417264e-01  2.97745696e+00]\n",
      " [-1.39817354e+00  7.99594822e-01]\n",
      " [ 6.92362271e-01 -9.74020315e-01]\n",
      " [ 3.09635232e+00  1.23254979e+00]\n",
      " [-1.70633481e+00 -3.41594354e+00]\n",
      " [-1.19254051e-01 -1.31645304e+00]\n",
      " [-5.70899609e-01  3.87727352e-01]\n",
      " [-1.14606743e+00  2.27733859e-01]\n",
      " [ 6.44485234e-01 -1.22464550e+00]\n",
      " [ 1.54227998e+00 -2.66444144e+00]\n",
      " [-9.49900750e-04 -1.54791407e+00]\n",
      " [ 2.52530208e-01 -2.90424939e-01]\n",
      " [-1.16839132e+00 -3.08364873e+00]\n",
      " [ 3.25549144e+00  4.68344052e-01]\n",
      " [-1.56860589e+00  3.53015488e-01]\n",
      " [-6.44355119e-01 -4.02400094e-02]\n",
      " [-1.43679503e+00  1.24928927e+00]\n",
      " [ 1.86179116e+00 -7.32777921e-01]\n",
      " [-1.69249300e+00 -2.88295785e+00]\n",
      " [-5.77726524e-01  1.04498216e-03]\n",
      " [-1.53641991e+00 -1.40415482e+00]\n",
      " [ 6.02536617e-02  8.13574569e-01]\n",
      " [-2.60196931e-02  9.51063326e-01]\n",
      " [-2.03345411e+00  1.25075258e+00]\n",
      " [-4.40357582e-01 -2.49726773e-01]\n",
      " [-2.59599555e+00  2.03068798e-01]\n",
      " [-1.27008090e-01 -4.51303543e-01]\n",
      " [-8.14538993e-01 -1.19040272e+00]\n",
      " [ 7.75372543e-01 -9.88087235e-01]\n",
      " [ 8.43783907e-01 -3.54045735e+00]\n",
      " [-1.09587074e+00 -3.42132953e+00]\n",
      " [ 1.60974492e-01  1.88746597e+00]\n",
      " [-6.50242583e-01  1.13056128e+00]\n",
      " [-1.92141327e+00 -2.22288541e-01]\n",
      " [-1.37346534e+00  9.96550690e-01]\n",
      " [ 6.81409138e-01 -3.06660840e+00]\n",
      " [ 1.51277233e+00 -5.77295878e-01]\n",
      " [ 1.65206897e+00  1.36122531e+00]\n",
      " [ 1.68787053e+00  1.27321831e+00]\n",
      " [-6.41903510e-01 -1.28085516e+00]\n",
      " [ 1.27619854e+00  1.31041562e+00]\n",
      " [-2.48146599e-01  1.17933509e+00]\n",
      " [ 1.39876593e+00  8.81386954e-01]\n",
      " [-6.85131250e-01  8.98529059e-01]\n",
      " [ 9.70436654e-01 -1.81112783e+00]\n",
      " [-1.50820914e+00  1.12923562e+00]\n",
      " [-2.89110517e-01 -1.41433685e+00]\n",
      " [-2.26155485e+00 -1.34642040e+00]\n",
      " [-3.24846037e-01  1.60593837e-01]\n",
      " [ 1.10912631e+00  1.24928004e+00]\n",
      " [ 7.87472978e-01  6.18433047e-01]\n",
      " [-2.58186722e+00 -5.00893271e-01]\n",
      " [ 3.74234104e+00 -3.44064980e-01]\n",
      " [-5.57963988e-01  1.36002389e+00]\n",
      " [-6.39170413e-02  6.91548211e-01]\n",
      " [-7.89898989e-01 -7.58665760e-01]\n",
      " [-3.65153391e-01  1.28333861e+00]\n",
      " [-1.99899986e+00  4.10262696e-01]\n",
      " [ 1.68015735e+00 -8.68509935e-01]\n",
      " [-4.92228710e-01 -4.42889547e-01]\n",
      " [-1.50170108e+00 -2.34299096e+00]\n",
      " [ 2.27243938e+00 -1.87582592e+00]\n",
      " [ 2.44960613e+00 -3.14746702e-01]\n",
      " [-1.74390855e+00  1.94620130e+00]\n",
      " [-4.68146013e-01  1.78099252e+00]\n",
      " [-3.18147212e-01 -3.74812097e+00]\n",
      " [ 1.13312603e+00 -1.43127953e+00]\n",
      " [-1.18947910e+00  1.03981990e+00]\n",
      " [ 3.82450893e+00  1.23681469e-02]\n",
      " [-6.34940554e-01 -9.10111035e-01]\n",
      " [-1.44964031e-01 -3.26177897e-01]\n",
      " [-7.41416688e-01 -5.99480295e-01]\n",
      " [ 2.71764910e+00  5.85601286e-01]\n",
      " [-2.53100907e-01 -3.09017964e+00]\n",
      " [-1.64016425e+00  5.89237365e-01]\n",
      " [ 2.36786440e-02 -3.83168207e+00]\n",
      " [ 3.41270209e+00 -3.20192388e-02]\n",
      " [ 1.10358442e+00 -1.04590948e-01]\n",
      " [-2.23717795e-01 -1.39079000e+00]\n",
      " [-1.99220713e+00 -2.06034367e+00]\n",
      " [-1.70905308e+00  1.96118678e+00]\n",
      " [ 2.13028679e+00 -3.12492384e-01]\n",
      " [-1.05819243e+00 -3.86041811e+00]\n",
      " [-2.44888497e-03  8.07304215e-01]\n",
      " [-7.69390196e-01 -2.25186040e+00]\n",
      " [ 2.28903779e+00 -1.99010871e-01]\n",
      " [-5.15681931e-01  1.49531232e+00]\n",
      " [ 1.38087899e+00  1.51784954e+00]\n",
      " [-2.37795726e+00  2.73521096e-01]\n",
      " [-6.76711199e-01 -5.40871124e-01]\n",
      " [-2.53431968e+00 -2.73040987e-01]\n",
      " [ 1.70263994e-01  5.70562952e-01]\n",
      " [-1.42617687e+00 -6.14221805e-01]\n",
      " [-2.90418733e+00  1.60869968e+00]\n",
      " [-1.00985528e+00  1.36896888e+00]\n",
      " [-1.02910989e+00 -2.92022813e+00]\n",
      " [-1.18595156e+00  9.07841433e-01]\n",
      " [-4.58252038e-01  1.73241015e+00]\n",
      " [ 2.34841943e+00 -1.08091549e-01]\n",
      " [ 6.38370590e-01  1.06564528e+00]\n",
      " [ 3.54714657e+00 -5.85681137e-01]\n",
      " [-2.34913669e+00  3.92662733e-01]\n",
      " [ 2.53015217e+00  1.95029512e-01]\n",
      " [ 5.12710664e-01  1.45824392e+00]\n",
      " [-1.26123714e+00  1.46625442e+00]\n",
      " [-8.57739198e-01 -2.60732712e+00]\n",
      " [ 2.14860891e+00  4.80439396e-01]\n",
      " [ 4.01605825e-01  1.06008077e+00]\n",
      " [ 2.43946263e+00  1.26952412e+00]\n",
      " [ 1.46000653e+00 -2.35591012e+00]\n",
      " [ 1.29150274e+00 -1.69036249e+00]\n",
      " [-9.68760185e-01  1.87975351e+00]\n",
      " [-3.45814340e-01 -3.81876804e-01]\n",
      " [ 2.27067917e+00  7.28535115e-01]\n",
      " [ 1.22054227e+00 -6.57041418e-01]\n",
      " [-5.30049364e-01  1.05365342e+00]]\n"
     ]
    }
   ],
   "source": [
    "X_train_pca = X_train_std.dot(w)\n",
    "print(X_train_pca)"
   ]
  },
  {
   "cell_type": "code",
   "execution_count": 55,
   "id": "c3c32f01",
   "metadata": {},
   "outputs": [
    {
     "data": {
      "image/png": "[encoded data removed]",
      "text/plain": [
       "<Figure size 432x288 with 1 Axes>"
      ]
     },
     "metadata": {
      "needs_background": "light"
     },
     "output_type": "display_data"
    }
   ],
   "source": [
    "colors = ['r', 'b', 'g']\n",
    "markers = ['s', 'x', 'o']\n",
    "\n",
    "for l, c, m in zip(np.unique(y_train), colors, markers):\n",
    "    plt.scatter(X_train_pca[y_train==l, 0],\n",
    "               X_train_pca[y_train==l, 1],\n",
    "               c=c, label =1, marker=m)\n",
    "\n",
    "plt.xlabel('PC 1')\n",
    "plt.ylabel('PC 2')\n",
    "plt.legend(loc='lower left')\n",
    "plt.tight_layout()\n",
    "plt.show()"
   ]
  },
  {
   "cell_type": "markdown",
   "id": "7e9f827a",
   "metadata": {},
   "source": [
    "### Linear Discriminant analysis"
   ]
  },
  {
   "cell_type": "code",
   "execution_count": 57,
   "id": "d1918c08",
   "metadata": {},
   "outputs": [
    {
     "name": "stdout",
     "output_type": "stream",
     "text": [
      "MV 1: [-0.1733  0.0454  0.1907 -0.1355  0.506  -0.7234  0.0732  0.2731 -0.0679]\n",
      "\n"
     ]
    }
   ],
   "source": [
    "np.set_printoptions(precision = 4)\n",
    "mean_vecs = []\n",
    "for label in range(1, 2): \n",
    "    mean_vecs.append(np.mean(X_train_std[y_train==label], axis = 0))\n",
    "    print('MV %s: %s\\n' % (label, mean_vecs[label-1]))"
   ]
  },
  {
   "cell_type": "code",
   "execution_count": 58,
   "id": "7cb638c6",
   "metadata": {},
   "outputs": [
    {
     "name": "stdout",
     "output_type": "stream",
     "text": [
      "Within class scatter matrix: 9x9\n"
     ]
    }
   ],
   "source": [
    "d = 9 #number of features\n",
    "S_W = np.zeros((d,d))\n",
    "\n",
    "for label, mv in zip(range(1,4), mean_vecs):\n",
    "    class_scatter = np.zeros((d, d))\n",
    "\n",
    "for row in X_train_std[y_train == label]:\n",
    "    row, mv = row.reshape(d, 1), mv.reshape(d, 1)\n",
    "    class_scatter += (row - mv).dot((row - mv).T)\n",
    "    S_W += class_scatter\n",
    "    \n",
    "print('Within class scatter matrix: %sx%s' %(S_W.shape[0], S_W.shape[1]))"
   ]
  },
  {
   "cell_type": "code",
   "execution_count": 59,
   "id": "6d1fab13",
   "metadata": {},
   "outputs": [
    {
     "name": "stdout",
     "output_type": "stream",
     "text": [
      "Scaled within-class scatter matrix: 9x9\n"
     ]
    }
   ],
   "source": [
    "d = 9 # number of features\n",
    "S_W = np.zeros((d, d))\n",
    "for label, mv in zip(range(1, 4), mean_vecs):\n",
    "    class_scatter = np.cov(X_train_std[y_train == label].T)\n",
    "    S_W += class_scatter\n",
    "\n",
    "print('Scaled within-class scatter matrix: %sx%s' % (S_W.shape[0], S_W.shape[1]))"
   ]
  },
  {
   "cell_type": "code",
   "execution_count": 60,
   "id": "8bac01f5",
   "metadata": {},
   "outputs": [
    {
     "name": "stdout",
     "output_type": "stream",
     "text": [
      "Between-class scatter matrix: 9x9\n"
     ]
    }
   ],
   "source": [
    "mean_overall = np.mean(X_train_std, axis = 0)\n",
    "d = 9 # number of features\n",
    "S_B = np.zeros((d, d))\n",
    "for i, mean_vec in enumerate(mean_vecs):\n",
    "    n= X_train_std[y_train == i + 1, :].shape[0]\n",
    "    mean_vec = mean_vec.reshape(d, 1) # make column vector\n",
    "    mean_overall = mean_overall.reshape(d, 1)\n",
    "    S_B += n * (mean_vec - mean_overall).dot((mean_vec - mean_overall).T)\n",
    "    \n",
    "print('Between-class scatter matrix: %sx%s' %(S_B.shape[0], S_B.shape[1]))"
   ]
  },
  {
   "cell_type": "code",
   "execution_count": 61,
   "id": "63944d0c",
   "metadata": {},
   "outputs": [],
   "source": [
    "eigen_vals, eigen_vecs = np.linalg.eig(np.linalg.inv(S_W).dot(S_B))"
   ]
  },
  {
   "cell_type": "code",
   "execution_count": 62,
   "id": "3b41b72c",
   "metadata": {},
   "outputs": [
    {
     "name": "stdout",
     "output_type": "stream",
     "text": [
      "Eigenvalues in descending order:\n",
      "\n",
      "5608.446398455123\n",
      "1.4654821211813187e-13\n",
      "7.00902411947177e-14\n",
      "4.428006808572422e-14\n",
      "6.46921486074233e-15\n",
      "6.46921486074233e-15\n",
      "2.5750421855126524e-15\n",
      "1.7900869584600863e-15\n",
      "0.0\n"
     ]
    }
   ],
   "source": [
    "eigen_pairs = [(np.abs(eigen_vals[i]), eigen_vecs[:, i]) for i in range(len(eigen_vals))]\n",
    "eigen_pairs = sorted (eigen_pairs, key=lambda k: k[0], reverse=True)\n",
    "print('Eigenvalues in descending order:\\n')\n",
    "for eigen_val in eigen_pairs:\n",
    "    print(eigen_val[0])"
   ]
  },
  {
   "cell_type": "code",
   "execution_count": 63,
   "id": "f4d32adb",
   "metadata": {},
   "outputs": [
    {
     "data": {
      "image/png": "[encoded data removed]",
      "text/plain": [
       "<Figure size 432x288 with 1 Axes>"
      ]
     },
     "metadata": {
      "needs_background": "light"
     },
     "output_type": "display_data"
    }
   ],
   "source": [
    "tot = sum (eigen_vals.real)\n",
    "discr = [(i / tot) for i in sorted (eigen_vals.real, reverse=True)]\n",
    "\n",
    "cum_discr = np.cumsum(discr)\n",
    "plt.bar(range(1,10), discr, alpha = 0.5, align = 'center', label='Individual \"discriminability\"')\n",
    "plt.step(range(1, 10), cum_discr, where = 'mid', label='Cumulative \"didscrimiability\"')\n",
    "\n",
    "plt.ylabel('\"Discriminability\" ratio')\n",
    "plt.xlabel('Linear Discriminants')\n",
    "plt.ylim([-0.1, 1.1])\n",
    "plt.legend(loc='best')\n",
    "plt.tight_layout()\n",
    "plt.show()"
   ]
  },
  {
   "cell_type": "markdown",
   "id": "4b8127b7",
   "metadata": {},
   "source": [
    "#### Linear Discriminative analysis is focusing just on CDR column. "
   ]
  },
  {
   "cell_type": "markdown",
   "id": "c2b73cdc",
   "metadata": {},
   "source": [
    "### -----------------------------------------------------------------"
   ]
  },
  {
   "cell_type": "code",
   "execution_count": 64,
   "id": "e16284cd",
   "metadata": {},
   "outputs": [
    {
     "data": {
      "image/png": "[encoded data removed]",
      "text/plain": [
       "<Figure size 432x288 with 1 Axes>"
      ]
     },
     "metadata": {
      "needs_background": "light"
     },
     "output_type": "display_data"
    }
   ],
   "source": [
    "X_train_lda = X_train_std.dot(w)\n",
    "colors = ['r', 'b', 'g']\n",
    "markers = ['s', 'x', 'o']\n",
    "\n",
    "for l, c, m in zip(np.unique(y_train), colors, markers):\n",
    "    plt.scatter(X_train_lda[y_train == l, 0], X_train_lda[y_train == l, 1] * (-1), c=c, label = l, marker = m)\n",
    "    \n",
    "plt.xlabel('LD 1')\n",
    "plt.ylabel('LD 2')\n",
    "plt.legend(loc='lower right')\n",
    "plt.tight_layout()\n",
    "plt.show()"
   ]
  },
  {
   "cell_type": "markdown",
   "id": "633e1eb6",
   "metadata": {},
   "source": [
    "## LDA via scikit-learn"
   ]
  },
  {
   "cell_type": "code",
   "execution_count": 74,
   "id": "cbe098f9",
   "metadata": {},
   "outputs": [],
   "source": [
    "# the following import statement is one line\n",
    "from sklearn.discriminant_analysis import LinearDiscriminantAnalysis as LDA\n",
    "lda = LDA(n_components = 1)\n",
    "X_train_lda = lda.fit_transform(X_train_std, y_train)"
   ]
  },
  {
   "cell_type": "code",
   "execution_count": 78,
   "id": "5a19d994",
   "metadata": {},
   "outputs": [],
   "source": [
    "from matplotlib.colors import ListedColormap\n",
    "\n",
    "def plot_decision_regions(X, y, classifier, resolution=0.02):\n",
    "\n",
    "    # setup marker generator and color map\n",
    "    markers = ('s', 'x', 'o', '^', 'v')\n",
    "    colors = ('red', 'blue', 'lightgreen', 'gray', 'cyan')\n",
    "    cmap = ListedColormap(colors[:len(np.unique(y))])\n",
    "\n",
    "    # plot the decision surface\n",
    "    x1_min, x1_max = X[:, 0].min() - 1, X[:, 0].max() + 1\n",
    "    x2_min, x2_max = X[:, 1].min() - 1, X[:, 1].max() + 1\n",
    "    xx1, xx2 = np.meshgrid(np.arange(x1_min, x1_max, resolution),\n",
    "                           np.arange(x2_min, x2_max, resolution))\n",
    "    Z = classifier.predict(np.array([xx1.ravel(), xx2.ravel()]).T)\n",
    "    Z = Z.reshape(xx1.shape)\n",
    "    plt.contourf(xx1, xx2, Z, alpha=0.4, cmap=cmap)\n",
    "    plt.xlim(xx1.min(), xx1.max())\n",
    "    plt.ylim(xx2.min(), xx2.max())\n",
    "\n",
    "    # plot examples by class\n",
    "    for idx, cl in enumerate(np.unique(y)):\n",
    "        plt.scatter(x=X[y == cl, 0], \n",
    "                    y=X[y == cl, 1],\n",
    "                    alpha=0.6, \n",
    "                    color=cmap(idx),\n",
    "                    edgecolor='black',\n",
    "                    marker=markers[idx], \n",
    "                    label=cl)"
   ]
  },
  {
   "cell_type": "code",
   "execution_count": 79,
   "id": "6eef1e1f",
   "metadata": {},
   "outputs": [
    {
     "ename": "IndexError",
     "evalue": "index 1 is out of bounds for axis 1 with size 1",
     "output_type": "error",
     "traceback": [
      "\u001b[0;31m---------------------------------------------------------------------------\u001b[0m",
      "\u001b[0;31mIndexError\u001b[0m                                Traceback (most recent call last)",
      "Input \u001b[0;32mIn [79]\u001b[0m, in \u001b[0;36m<cell line: 4>\u001b[0;34m()\u001b[0m\n\u001b[1;32m      1\u001b[0m lr \u001b[38;5;241m=\u001b[39m LogisticRegression(multi_class\u001b[38;5;241m=\u001b[39m\u001b[38;5;124m'\u001b[39m\u001b[38;5;124movr\u001b[39m\u001b[38;5;124m'\u001b[39m, random_state \u001b[38;5;241m=\u001b[39m \u001b[38;5;241m1\u001b[39m, solver \u001b[38;5;241m=\u001b[39m \u001b[38;5;124m'\u001b[39m\u001b[38;5;124mlbfgs\u001b[39m\u001b[38;5;124m'\u001b[39m)\n\u001b[1;32m      2\u001b[0m lr \u001b[38;5;241m=\u001b[39m lr\u001b[38;5;241m.\u001b[39mfit(X_train_lda, y_train)\n\u001b[0;32m----> 4\u001b[0m \u001b[43mplot_decision_regions\u001b[49m\u001b[43m(\u001b[49m\u001b[43mX_train_lda\u001b[49m\u001b[43m,\u001b[49m\u001b[43m \u001b[49m\u001b[43my_train\u001b[49m\u001b[43m,\u001b[49m\u001b[43m \u001b[49m\u001b[43mclassifier\u001b[49m\u001b[43m \u001b[49m\u001b[38;5;241;43m=\u001b[39;49m\u001b[43m \u001b[49m\u001b[43mlr\u001b[49m\u001b[43m)\u001b[49m\n\u001b[1;32m      5\u001b[0m plt\u001b[38;5;241m.\u001b[39mxlabel(\u001b[38;5;124m'\u001b[39m\u001b[38;5;124mLD 1\u001b[39m\u001b[38;5;124m'\u001b[39m)\n\u001b[1;32m      6\u001b[0m plt\u001b[38;5;241m.\u001b[39mylabel(\u001b[38;5;124m'\u001b[39m\u001b[38;5;124mLD 2\u001b[39m\u001b[38;5;124m'\u001b[39m)\n",
      "Input \u001b[0;32mIn [78]\u001b[0m, in \u001b[0;36mplot_decision_regions\u001b[0;34m(X, y, classifier, resolution)\u001b[0m\n\u001b[1;32m     10\u001b[0m \u001b[38;5;66;03m# plot the decision surface\u001b[39;00m\n\u001b[1;32m     11\u001b[0m x1_min, x1_max \u001b[38;5;241m=\u001b[39m X[:, \u001b[38;5;241m0\u001b[39m]\u001b[38;5;241m.\u001b[39mmin() \u001b[38;5;241m-\u001b[39m \u001b[38;5;241m1\u001b[39m, X[:, \u001b[38;5;241m0\u001b[39m]\u001b[38;5;241m.\u001b[39mmax() \u001b[38;5;241m+\u001b[39m \u001b[38;5;241m1\u001b[39m\n\u001b[0;32m---> 12\u001b[0m x2_min, x2_max \u001b[38;5;241m=\u001b[39m \u001b[43mX\u001b[49m\u001b[43m[\u001b[49m\u001b[43m:\u001b[49m\u001b[43m,\u001b[49m\u001b[43m \u001b[49m\u001b[38;5;241;43m1\u001b[39;49m\u001b[43m]\u001b[49m\u001b[38;5;241m.\u001b[39mmin() \u001b[38;5;241m-\u001b[39m \u001b[38;5;241m1\u001b[39m, X[:, \u001b[38;5;241m1\u001b[39m]\u001b[38;5;241m.\u001b[39mmax() \u001b[38;5;241m+\u001b[39m \u001b[38;5;241m1\u001b[39m\n\u001b[1;32m     13\u001b[0m xx1, xx2 \u001b[38;5;241m=\u001b[39m np\u001b[38;5;241m.\u001b[39mmeshgrid(np\u001b[38;5;241m.\u001b[39marange(x1_min, x1_max, resolution),\n\u001b[1;32m     14\u001b[0m                        np\u001b[38;5;241m.\u001b[39marange(x2_min, x2_max, resolution))\n\u001b[1;32m     15\u001b[0m Z \u001b[38;5;241m=\u001b[39m classifier\u001b[38;5;241m.\u001b[39mpredict(np\u001b[38;5;241m.\u001b[39marray([xx1\u001b[38;5;241m.\u001b[39mravel(), xx2\u001b[38;5;241m.\u001b[39mravel()])\u001b[38;5;241m.\u001b[39mT)\n",
      "\u001b[0;31mIndexError\u001b[0m: index 1 is out of bounds for axis 1 with size 1"
     ]
    }
   ],
   "source": [
    "lr = LogisticRegression(multi_class='ovr', random_state = 1, solver = 'lbfgs')\n",
    "lr = lr.fit(X_train_lda, y_train)\n",
    "\n",
    "plot_decision_regions(X_train_lda, y_train, classifier = lr)\n",
    "plt.xlabel('LD 1')\n",
    "plt.ylabel('LD 2')\n",
    "plt.legend(loc = 'lower left')\n",
    "plt.tight_layout()\n",
    "plt.show()"
   ]
  },
  {
   "cell_type": "markdown",
   "id": "3a3e46ae",
   "metadata": {},
   "source": [
    "#### Based on the above outcome, it shows that working with the two columns would be with much more errors that expected. "
   ]
  },
  {
   "cell_type": "code",
   "execution_count": null,
   "id": "9c17335c",
   "metadata": {},
   "outputs": [],
   "source": []
  },
  {
   "cell_type": "code",
   "execution_count": null,
   "id": "d95a925f",
   "metadata": {},
   "outputs": [],
   "source": []
  }
 ],
 "metadata": {
  "kernelspec": {
   "display_name": "Python 3 (ipykernel)",
   "language": "python",
   "name": "python3"
  },
  "language_info": {
   "codemirror_mode": {
    "name": "ipython",
    "version": 3
   },
   "file_extension": ".py",
   "mimetype": "text/x-python",
   "name": "python",
   "nbconvert_exporter": "python",
   "pygments_lexer": "ipython3",
   "version": "3.9.12"
  }
 },
 "nbformat": 4,
 "nbformat_minor": 5
}

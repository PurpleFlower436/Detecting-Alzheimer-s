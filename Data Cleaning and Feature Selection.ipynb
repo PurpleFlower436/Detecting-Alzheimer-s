{
 "cells": [
  {
   "cell_type": "code",
   "execution_count": 3,
   "id": "e538aa73",
   "metadata": {},
   "outputs": [],
   "source": [
    "import numpy as np\n",
    "import pandas as pd"
   ]
  },
  {
   "cell_type": "code",
   "execution_count": 45,
   "id": "b2ec809c",
   "metadata": {
    "scrolled": true
   },
   "outputs": [
    {
     "data": {
      "text/html": [
       "<div>\n",
       "<style scoped>\n",
       "    .dataframe tbody tr th:only-of-type {\n",
       "        vertical-align: middle;\n",
       "    }\n",
       "\n",
       "    .dataframe tbody tr th {\n",
       "        vertical-align: top;\n",
       "    }\n",
       "\n",
       "    .dataframe thead th {\n",
       "        text-align: right;\n",
       "    }\n",
       "</style>\n",
       "<table border=\"1\" class=\"dataframe\">\n",
       "  <thead>\n",
       "    <tr style=\"text-align: right;\">\n",
       "      <th></th>\n",
       "      <th>Group</th>\n",
       "      <th>M/F</th>\n",
       "      <th>Age</th>\n",
       "      <th>EDUC</th>\n",
       "      <th>SES</th>\n",
       "      <th>MMSE</th>\n",
       "      <th>CDR</th>\n",
       "      <th>eTIV</th>\n",
       "      <th>nWBV</th>\n",
       "      <th>ASF</th>\n",
       "    </tr>\n",
       "  </thead>\n",
       "  <tbody>\n",
       "    <tr>\n",
       "      <th>0</th>\n",
       "      <td>Nondemented</td>\n",
       "      <td>M</td>\n",
       "      <td>87</td>\n",
       "      <td>14</td>\n",
       "      <td>2.0</td>\n",
       "      <td>27.0</td>\n",
       "      <td>0.0</td>\n",
       "      <td>1987</td>\n",
       "      <td>0.696</td>\n",
       "      <td>0.883</td>\n",
       "    </tr>\n",
       "    <tr>\n",
       "      <th>1</th>\n",
       "      <td>Nondemented</td>\n",
       "      <td>M</td>\n",
       "      <td>88</td>\n",
       "      <td>14</td>\n",
       "      <td>2.0</td>\n",
       "      <td>30.0</td>\n",
       "      <td>0.0</td>\n",
       "      <td>2004</td>\n",
       "      <td>0.681</td>\n",
       "      <td>0.876</td>\n",
       "    </tr>\n",
       "    <tr>\n",
       "      <th>2</th>\n",
       "      <td>Demented</td>\n",
       "      <td>M</td>\n",
       "      <td>75</td>\n",
       "      <td>12</td>\n",
       "      <td>NaN</td>\n",
       "      <td>23.0</td>\n",
       "      <td>0.5</td>\n",
       "      <td>1678</td>\n",
       "      <td>0.736</td>\n",
       "      <td>1.046</td>\n",
       "    </tr>\n",
       "    <tr>\n",
       "      <th>3</th>\n",
       "      <td>Demented</td>\n",
       "      <td>M</td>\n",
       "      <td>76</td>\n",
       "      <td>12</td>\n",
       "      <td>NaN</td>\n",
       "      <td>28.0</td>\n",
       "      <td>0.5</td>\n",
       "      <td>1738</td>\n",
       "      <td>0.713</td>\n",
       "      <td>1.010</td>\n",
       "    </tr>\n",
       "    <tr>\n",
       "      <th>4</th>\n",
       "      <td>Demented</td>\n",
       "      <td>M</td>\n",
       "      <td>80</td>\n",
       "      <td>12</td>\n",
       "      <td>NaN</td>\n",
       "      <td>22.0</td>\n",
       "      <td>0.5</td>\n",
       "      <td>1698</td>\n",
       "      <td>0.701</td>\n",
       "      <td>1.034</td>\n",
       "    </tr>\n",
       "  </tbody>\n",
       "</table>\n",
       "</div>"
      ],
      "text/plain": [
       "         Group M/F  Age  EDUC  SES  MMSE  CDR  eTIV   nWBV    ASF\n",
       "0  Nondemented   M   87    14  2.0  27.0  0.0  1987  0.696  0.883\n",
       "1  Nondemented   M   88    14  2.0  30.0  0.0  2004  0.681  0.876\n",
       "2     Demented   M   75    12  NaN  23.0  0.5  1678  0.736  1.046\n",
       "3     Demented   M   76    12  NaN  28.0  0.5  1738  0.713  1.010\n",
       "4     Demented   M   80    12  NaN  22.0  0.5  1698  0.701  1.034"
      ]
     },
     "execution_count": 45,
     "metadata": {},
     "output_type": "execute_result"
    }
   ],
   "source": [
    "df = pd.read_csv('alzheimer.csv')\n",
    "df.head()\n"
   ]
  },
  {
   "cell_type": "code",
   "execution_count": 113,
   "id": "d139aca3",
   "metadata": {
    "scrolled": false
   },
   "outputs": [
    {
     "data": {
      "text/html": [
       "<div>\n",
       "<style scoped>\n",
       "    .dataframe tbody tr th:only-of-type {\n",
       "        vertical-align: middle;\n",
       "    }\n",
       "\n",
       "    .dataframe tbody tr th {\n",
       "        vertical-align: top;\n",
       "    }\n",
       "\n",
       "    .dataframe thead th {\n",
       "        text-align: right;\n",
       "    }\n",
       "</style>\n",
       "<table border=\"1\" class=\"dataframe\">\n",
       "  <thead>\n",
       "    <tr style=\"text-align: right;\">\n",
       "      <th></th>\n",
       "      <th>Group</th>\n",
       "      <th>M/F</th>\n",
       "      <th>Age</th>\n",
       "      <th>EDUC</th>\n",
       "      <th>SES</th>\n",
       "      <th>MMSE</th>\n",
       "      <th>CDR</th>\n",
       "      <th>eTIV</th>\n",
       "      <th>nWBV</th>\n",
       "      <th>ASF</th>\n",
       "    </tr>\n",
       "  </thead>\n",
       "  <tbody>\n",
       "    <tr>\n",
       "      <th>0</th>\n",
       "      <td>2</td>\n",
       "      <td>1</td>\n",
       "      <td>87.0</td>\n",
       "      <td>14.0</td>\n",
       "      <td>2.000000</td>\n",
       "      <td>27.0</td>\n",
       "      <td>0.0</td>\n",
       "      <td>1987.0</td>\n",
       "      <td>0.696</td>\n",
       "      <td>0.883</td>\n",
       "    </tr>\n",
       "    <tr>\n",
       "      <th>1</th>\n",
       "      <td>2</td>\n",
       "      <td>1</td>\n",
       "      <td>88.0</td>\n",
       "      <td>14.0</td>\n",
       "      <td>2.000000</td>\n",
       "      <td>30.0</td>\n",
       "      <td>0.0</td>\n",
       "      <td>2004.0</td>\n",
       "      <td>0.681</td>\n",
       "      <td>0.876</td>\n",
       "    </tr>\n",
       "    <tr>\n",
       "      <th>2</th>\n",
       "      <td>1</td>\n",
       "      <td>1</td>\n",
       "      <td>75.0</td>\n",
       "      <td>12.0</td>\n",
       "      <td>2.460452</td>\n",
       "      <td>23.0</td>\n",
       "      <td>0.5</td>\n",
       "      <td>1678.0</td>\n",
       "      <td>0.736</td>\n",
       "      <td>1.046</td>\n",
       "    </tr>\n",
       "    <tr>\n",
       "      <th>3</th>\n",
       "      <td>1</td>\n",
       "      <td>1</td>\n",
       "      <td>76.0</td>\n",
       "      <td>12.0</td>\n",
       "      <td>2.460452</td>\n",
       "      <td>28.0</td>\n",
       "      <td>0.5</td>\n",
       "      <td>1738.0</td>\n",
       "      <td>0.713</td>\n",
       "      <td>1.010</td>\n",
       "    </tr>\n",
       "    <tr>\n",
       "      <th>4</th>\n",
       "      <td>1</td>\n",
       "      <td>1</td>\n",
       "      <td>80.0</td>\n",
       "      <td>12.0</td>\n",
       "      <td>2.460452</td>\n",
       "      <td>22.0</td>\n",
       "      <td>0.5</td>\n",
       "      <td>1698.0</td>\n",
       "      <td>0.701</td>\n",
       "      <td>1.034</td>\n",
       "    </tr>\n",
       "  </tbody>\n",
       "</table>\n",
       "</div>"
      ],
      "text/plain": [
       "   Group  M/F   Age  EDUC       SES  MMSE  CDR    eTIV   nWBV    ASF\n",
       "0      2    1  87.0  14.0  2.000000  27.0  0.0  1987.0  0.696  0.883\n",
       "1      2    1  88.0  14.0  2.000000  30.0  0.0  2004.0  0.681  0.876\n",
       "2      1    1  75.0  12.0  2.460452  23.0  0.5  1678.0  0.736  1.046\n",
       "3      1    1  76.0  12.0  2.460452  28.0  0.5  1738.0  0.713  1.010\n",
       "4      1    1  80.0  12.0  2.460452  22.0  0.5  1698.0  0.701  1.034"
      ]
     },
     "execution_count": 113,
     "metadata": {},
     "output_type": "execute_result"
    }
   ],
   "source": [
    "from sklearn.preprocessing import LabelEncoder\n",
    "class_le = LabelEncoder()\n",
    "y = class_le.fit_transform(df['M/F'].values)\n",
    "df.iloc[:, 1] = y\n",
    "y = class_le.fit_transform(df['Group'].values)\n",
    "df.iloc[:, 0] = y\n",
    "df.head()"
   ]
  },
  {
   "cell_type": "code",
   "execution_count": 114,
   "id": "2e538181",
   "metadata": {},
   "outputs": [
    {
     "name": "stdout",
     "output_type": "stream",
     "text": [
      "Class label distribution: [102 133]\n"
     ]
    }
   ],
   "source": [
    "#from sklearn.model_selection import train_test_split\n",
    "#X, y = df.iloc[:, 1:].values, df.iloc[:, 0].values\n",
    "#X_train, X_test, y_train, y_test = train_test_split(X, y, test_size=0.3, random_state=0, stratify = y)\n",
    "print('Class label distribution: %s' %np.bincount(y_train)[1:])"
   ]
  },
  {
   "cell_type": "code",
   "execution_count": 115,
   "id": "3269d62c",
   "metadata": {
    "scrolled": false
   },
   "outputs": [
    {
     "data": {
      "text/plain": [
       "Group    0\n",
       "M/F      0\n",
       "Age      0\n",
       "EDUC     0\n",
       "SES      0\n",
       "MMSE     0\n",
       "CDR      0\n",
       "eTIV     0\n",
       "nWBV     0\n",
       "ASF      0\n",
       "dtype: int64"
      ]
     },
     "execution_count": 115,
     "metadata": {},
     "output_type": "execute_result"
    }
   ],
   "source": [
    "df.isnull().sum()"
   ]
  },
  {
   "cell_type": "code",
   "execution_count": 116,
   "id": "4bc6df54",
   "metadata": {},
   "outputs": [
    {
     "data": {
      "text/plain": [
       "Index(['Group', 'M/F', 'Age', 'EDUC', 'SES', 'MMSE', 'CDR', 'eTIV', 'nWBV',\n",
       "       'ASF'],\n",
       "      dtype='object')"
      ]
     },
     "execution_count": 116,
     "metadata": {},
     "output_type": "execute_result"
    }
   ],
   "source": [
    "df.columns"
   ]
  },
  {
   "cell_type": "code",
   "execution_count": 117,
   "id": "ee8c90fe",
   "metadata": {},
   "outputs": [],
   "source": [
    "from sklearn.impute import SimpleImputer\n",
    "import numpy as np\n",
    "\n",
    "imr = SimpleImputer(missing_values=np.nan, strategy='mean')\n",
    "imr = imr.fit(df.values)\n",
    "imputed_data = imr.transform(df.values)\n",
    "#imputed_data\n",
    "df = pd.DataFrame(imputed_data, columns = ['Group', 'M/F', 'Age', 'EDUC', 'SES', 'MMSE', 'CDR', 'eTIV', 'nWBV',\n",
    "       'ASF'])"
   ]
  },
  {
   "cell_type": "code",
   "execution_count": 118,
   "id": "d2a4e79c",
   "metadata": {},
   "outputs": [
    {
     "data": {
      "text/html": [
       "<div>\n",
       "<style scoped>\n",
       "    .dataframe tbody tr th:only-of-type {\n",
       "        vertical-align: middle;\n",
       "    }\n",
       "\n",
       "    .dataframe tbody tr th {\n",
       "        vertical-align: top;\n",
       "    }\n",
       "\n",
       "    .dataframe thead th {\n",
       "        text-align: right;\n",
       "    }\n",
       "</style>\n",
       "<table border=\"1\" class=\"dataframe\">\n",
       "  <thead>\n",
       "    <tr style=\"text-align: right;\">\n",
       "      <th></th>\n",
       "      <th>Group</th>\n",
       "      <th>M/F</th>\n",
       "      <th>Age</th>\n",
       "      <th>EDUC</th>\n",
       "      <th>SES</th>\n",
       "      <th>MMSE</th>\n",
       "      <th>CDR</th>\n",
       "      <th>eTIV</th>\n",
       "      <th>nWBV</th>\n",
       "      <th>ASF</th>\n",
       "    </tr>\n",
       "  </thead>\n",
       "  <tbody>\n",
       "    <tr>\n",
       "      <th>0</th>\n",
       "      <td>2.0</td>\n",
       "      <td>1.0</td>\n",
       "      <td>87.0</td>\n",
       "      <td>14.0</td>\n",
       "      <td>2.000000</td>\n",
       "      <td>27.0</td>\n",
       "      <td>0.0</td>\n",
       "      <td>1987.0</td>\n",
       "      <td>0.696</td>\n",
       "      <td>0.883</td>\n",
       "    </tr>\n",
       "    <tr>\n",
       "      <th>1</th>\n",
       "      <td>2.0</td>\n",
       "      <td>1.0</td>\n",
       "      <td>88.0</td>\n",
       "      <td>14.0</td>\n",
       "      <td>2.000000</td>\n",
       "      <td>30.0</td>\n",
       "      <td>0.0</td>\n",
       "      <td>2004.0</td>\n",
       "      <td>0.681</td>\n",
       "      <td>0.876</td>\n",
       "    </tr>\n",
       "    <tr>\n",
       "      <th>2</th>\n",
       "      <td>1.0</td>\n",
       "      <td>1.0</td>\n",
       "      <td>75.0</td>\n",
       "      <td>12.0</td>\n",
       "      <td>2.460452</td>\n",
       "      <td>23.0</td>\n",
       "      <td>0.5</td>\n",
       "      <td>1678.0</td>\n",
       "      <td>0.736</td>\n",
       "      <td>1.046</td>\n",
       "    </tr>\n",
       "    <tr>\n",
       "      <th>3</th>\n",
       "      <td>1.0</td>\n",
       "      <td>1.0</td>\n",
       "      <td>76.0</td>\n",
       "      <td>12.0</td>\n",
       "      <td>2.460452</td>\n",
       "      <td>28.0</td>\n",
       "      <td>0.5</td>\n",
       "      <td>1738.0</td>\n",
       "      <td>0.713</td>\n",
       "      <td>1.010</td>\n",
       "    </tr>\n",
       "    <tr>\n",
       "      <th>4</th>\n",
       "      <td>1.0</td>\n",
       "      <td>1.0</td>\n",
       "      <td>80.0</td>\n",
       "      <td>12.0</td>\n",
       "      <td>2.460452</td>\n",
       "      <td>22.0</td>\n",
       "      <td>0.5</td>\n",
       "      <td>1698.0</td>\n",
       "      <td>0.701</td>\n",
       "      <td>1.034</td>\n",
       "    </tr>\n",
       "  </tbody>\n",
       "</table>\n",
       "</div>"
      ],
      "text/plain": [
       "   Group  M/F   Age  EDUC       SES  MMSE  CDR    eTIV   nWBV    ASF\n",
       "0    2.0  1.0  87.0  14.0  2.000000  27.0  0.0  1987.0  0.696  0.883\n",
       "1    2.0  1.0  88.0  14.0  2.000000  30.0  0.0  2004.0  0.681  0.876\n",
       "2    1.0  1.0  75.0  12.0  2.460452  23.0  0.5  1678.0  0.736  1.046\n",
       "3    1.0  1.0  76.0  12.0  2.460452  28.0  0.5  1738.0  0.713  1.010\n",
       "4    1.0  1.0  80.0  12.0  2.460452  22.0  0.5  1698.0  0.701  1.034"
      ]
     },
     "execution_count": 118,
     "metadata": {},
     "output_type": "execute_result"
    }
   ],
   "source": [
    "df.head()"
   ]
  },
  {
   "cell_type": "code",
   "execution_count": 119,
   "id": "bb5074c8",
   "metadata": {},
   "outputs": [],
   "source": [
    "from sklearn.model_selection import train_test_split\n",
    "\n",
    "X, y = df.iloc[:, 1:].values, df.iloc[:, 0].values\n",
    "X_train, X_test, y_train, y_test = train_test_split(X, y, test_size=0.3, random_state=0, stratify = y)"
   ]
  },
  {
   "cell_type": "code",
   "execution_count": 59,
   "id": "1b087d99",
   "metadata": {},
   "outputs": [],
   "source": [
    "from sklearn.preprocessing import StandardScaler\n",
    "\n",
    "stdsc = StandardScaler()\n",
    "X_train_std = stdsc.fit_transform(X_train)\n",
    "X_test_std = stdsc.transform(X_test)"
   ]
  },
  {
   "cell_type": "code",
   "execution_count": 120,
   "id": "3681799a",
   "metadata": {},
   "outputs": [
    {
     "data": {
      "text/plain": [
       "LogisticRegression(multi_class='ovr', penalty='11', solver='liblinear')"
      ]
     },
     "execution_count": 120,
     "metadata": {},
     "output_type": "execute_result"
    }
   ],
   "source": [
    "from sklearn.linear_model import LogisticRegression\n",
    "LogisticRegression(penalty = '11', solver = 'liblinear', multi_class = 'ovr')"
   ]
  },
  {
   "cell_type": "code",
   "execution_count": 121,
   "id": "82ff8f34",
   "metadata": {},
   "outputs": [
    {
     "name": "stdout",
     "output_type": "stream",
     "text": [
      "Training accuracy:  0.896551724137931\n",
      "Test accuracy:  0.9107142857142857\n"
     ]
    }
   ],
   "source": [
    "lr = LogisticRegression(penalty = 'l1', C=1.0, solver='liblinear', multi_class='ovr')\n",
    "lr.fit(X_train_std, y_train)\n",
    "print('Training accuracy: ', lr.score(X_train_std, y_train))\n",
    "print('Test accuracy: ', lr.score(X_test_std, y_test))"
   ]
  },
  {
   "cell_type": "code",
   "execution_count": 122,
   "id": "2a662744",
   "metadata": {},
   "outputs": [
    {
     "data": {
      "text/plain": [
       "array([-2.5798, -1.0378, -1.1752])"
      ]
     },
     "execution_count": 122,
     "metadata": {},
     "output_type": "execute_result"
    }
   ],
   "source": [
    "lr.intercept_"
   ]
  },
  {
   "cell_type": "code",
   "execution_count": 123,
   "id": "b502949b",
   "metadata": {},
   "outputs": [
    {
     "data": {
      "text/plain": [
       "array([[-0.0107,  0.2777, -0.5384, -1.1742,  0.5945,  0.1608, -0.3963,\n",
       "        -0.0182,  0.    ],\n",
       "       [ 0.7738, -1.112 , -0.2029,  0.4134, -1.5505,  4.6207,  0.    ,\n",
       "        -0.3494,  0.2937],\n",
       "       [ 0.    ,  0.    ,  0.5625,  0.9543,  0.5355, -4.6134,  0.6706,\n",
       "         0.197 ,  0.    ]])"
      ]
     },
     "execution_count": 123,
     "metadata": {},
     "output_type": "execute_result"
    }
   ],
   "source": [
    "lr.coef_"
   ]
  },
  {
   "cell_type": "code",
   "execution_count": 124,
   "id": "ab6d74d4",
   "metadata": {},
   "outputs": [
    {
     "name": "stdout",
     "output_type": "stream",
     "text": [
      "[0.     0.     0.     0.     0.7738 1.939  2.286  2.3267 2.3309 2.3313]\n"
     ]
    },
    {
     "data": {
      "image/png": "[encoded data removed]",
      "text/plain": [
       "<Figure size 432x288 with 1 Axes>"
      ]
     },
     "metadata": {
      "needs_background": "light"
     },
     "output_type": "display_data"
    }
   ],
   "source": [
    "import matplotlib.pyplot as plt\n",
    "\n",
    "fig = plt.figure()\n",
    "ax = plt.subplot(111)\n",
    "    \n",
    "colors = ['blue', 'green', 'red', 'cyan', \n",
    "          'magenta', 'yellow', 'black', \n",
    "          'pink', 'lightgreen', 'lightblue', \n",
    "          'gray', 'indigo', 'orange']\n",
    "\n",
    "weights, params = [], []\n",
    "for c in np.arange(-4., 6.):\n",
    "    lr = LogisticRegression(penalty='l1', C=10.**c, solver='liblinear', \n",
    "                            multi_class='ovr', random_state=0)\n",
    "    lr.fit(X_train_std, y_train)\n",
    "    weights.append(lr.coef_[1])\n",
    "    params.append(10**c)\n",
    "\n",
    "weights = np.array(weights)\n",
    "print(weights[:, 0])\n",
    "\n",
    "for column, color in zip(range(weights.shape[1]), colors):\n",
    "    plt.plot(params, weights[:, column],\n",
    "             label=df.columns[column],\n",
    "             color=color)\n",
    "plt.axhline(0, color='black', linestyle='--', linewidth=3)\n",
    "plt.xlim([10**(-5), 10**5])\n",
    "plt.ylabel('weight coefficient')\n",
    "plt.xlabel('C')\n",
    "plt.xscale('log')\n",
    "plt.legend(loc='upper left')\n",
    "ax.legend(loc='upper center', \n",
    "          bbox_to_anchor=(1.38, 1.03),\n",
    "          ncol=1, fancybox=True)\n",
    "#plt.savefig('images/04_07.png', dpi=300, \n",
    "#            bbox_inches='tight', pad_inches=0.2)\n",
    "plt.show()"
   ]
  },
  {
   "cell_type": "markdown",
   "id": "e501aa03",
   "metadata": {},
   "source": [
    "## Feature selection"
   ]
  },
  {
   "cell_type": "markdown",
   "id": "154bdce1",
   "metadata": {},
   "source": [
    "### Sequential feature selection algorithms"
   ]
  },
  {
   "cell_type": "code",
   "execution_count": 125,
   "id": "49e4d12b",
   "metadata": {},
   "outputs": [],
   "source": [
    "from sklearn.base import clone\n",
    "from itertools import combinations\n",
    "import numpy as np\n",
    "from sklearn.metrics import accuracy_score\n",
    "from sklearn.model_selection import train_test_split\n",
    "\n",
    "\n",
    "class SBS():\n",
    "    def __init__(self, estimator, k_features, scoring=accuracy_score,\n",
    "                 test_size=0.25, random_state=1):\n",
    "        self.scoring = scoring\n",
    "        self.estimator = clone(estimator)\n",
    "        self.k_features = k_features\n",
    "        self.test_size = test_size\n",
    "        self.random_state = random_state\n",
    "\n",
    "    def fit(self, X, y):\n",
    "        \n",
    "        X_train, X_test, y_train, y_test = \\\n",
    "            train_test_split(X, y, test_size=self.test_size,\n",
    "                             random_state=self.random_state)\n",
    "\n",
    "        dim = X_train.shape[1]\n",
    "        self.indices_ = tuple(range(dim))\n",
    "        self.subsets_ = [self.indices_]\n",
    "        score = self._calc_score(X_train, y_train, \n",
    "                                 X_test, y_test, self.indices_)\n",
    "        self.scores_ = [score]\n",
    "\n",
    "        while dim > self.k_features:\n",
    "            scores = []\n",
    "            subsets = []\n",
    "\n",
    "            for p in combinations(self.indices_, r=dim - 1):\n",
    "                score = self._calc_score(X_train, y_train, \n",
    "                                         X_test, y_test, p)\n",
    "                scores.append(score)\n",
    "                subsets.append(p)\n",
    "\n",
    "            best = np.argmax(scores)\n",
    "            self.indices_ = subsets[best]\n",
    "            self.subsets_.append(self.indices_)\n",
    "            dim -= 1\n",
    "\n",
    "            self.scores_.append(scores[best])\n",
    "        self.k_score_ = self.scores_[-1]\n",
    "\n",
    "        return self\n",
    "\n",
    "    def transform(self, X):\n",
    "        return X[:, self.indices_]\n",
    "\n",
    "    def _calc_score(self, X_train, y_train, X_test, y_test, indices):\n",
    "        self.estimator.fit(X_train[:, indices], y_train)\n",
    "        y_pred = self.estimator.predict(X_test[:, indices])\n",
    "        score = self.scoring(y_test, y_pred)\n",
    "        return score"
   ]
  },
  {
   "cell_type": "code",
   "execution_count": 126,
   "id": "c84841a2",
   "metadata": {},
   "outputs": [
    {
     "data": {
      "text/plain": [
       "<__main__.SBS at 0x7f203303d640>"
      ]
     },
     "execution_count": 126,
     "metadata": {},
     "output_type": "execute_result"
    }
   ],
   "source": [
    "import matplotlib.pyplot as plt\n",
    "from sklearn.neighbors import KNeighborsClassifier\n",
    "\n",
    "knn = KNeighborsClassifier(n_neighbors = 5)\n",
    "sbs = SBS(knn, k_features = 1)\n",
    "sbs.fit(X_train_std, y_train)"
   ]
  },
  {
   "cell_type": "code",
   "execution_count": 127,
   "id": "510dc2c5",
   "metadata": {},
   "outputs": [
    {
     "data": {
      "image/png": "[encoded data removed]",
      "text/plain": [
       "<Figure size 432x288 with 1 Axes>"
      ]
     },
     "metadata": {
      "needs_background": "light"
     },
     "output_type": "display_data"
    }
   ],
   "source": [
    "k_feat = [len(k) for k in sbs.subsets_]\n",
    "\n",
    "plt.plot(k_feat, sbs.scores_, marker='o')\n",
    "plt.ylim([0.7, 1.02])\n",
    "plt.ylabel('Accuracy')\n",
    "plt.xlabel('Number of features')\n",
    "plt.grid()\n",
    "plt.tight_layout()\n",
    "plt.show()"
   ]
  },
  {
   "cell_type": "code",
   "execution_count": 128,
   "id": "31d2169d",
   "metadata": {},
   "outputs": [
    {
     "name": "stdout",
     "output_type": "stream",
     "text": [
      "Index(['CDR'], dtype='object')\n"
     ]
    }
   ],
   "source": [
    "k3 = list(sbs.subsets_[8])\n",
    "print(df.columns[1:][k3])"
   ]
  },
  {
   "cell_type": "code",
   "execution_count": 129,
   "id": "bdb74b1a",
   "metadata": {},
   "outputs": [
    {
     "name": "stdout",
     "output_type": "stream",
     "text": [
      "Training accuracy:  0.9003831417624522\n",
      "Test accuracy:  0.8839285714285714\n"
     ]
    }
   ],
   "source": [
    "knn.fit(X_train_std, y_train)\n",
    "print('Training accuracy: ', knn.score(X_train_std, y_train))\n",
    "print('Test accuracy: ', knn.score(X_test_std, y_test))"
   ]
  },
  {
   "cell_type": "code",
   "execution_count": 130,
   "id": "5f59121d",
   "metadata": {},
   "outputs": [
    {
     "name": "stdout",
     "output_type": "stream",
     "text": [
      "Traning Accuracy:  0.685823754789272\n",
      "Test accuracy;  0.6428571428571429\n"
     ]
    }
   ],
   "source": [
    "knn.fit(X_train_std[:, k3], y_train)\n",
    "print('Traning Accuracy: ', knn.score(X_train_std[:, k3], y_train))\n",
    "print('Test accuracy; ', knn.score(X_test_std[:, k3], y_test))\n",
    "\n",
    "#The result  is disaster."
   ]
  },
  {
   "cell_type": "markdown",
   "id": "f4412b32",
   "metadata": {},
   "source": [
    "### Random Forests: Assessing Feature importance"
   ]
  },
  {
   "cell_type": "code",
   "execution_count": 131,
   "id": "3bfd74d4",
   "metadata": {},
   "outputs": [
    {
     "name": "stdout",
     "output_type": "stream",
     "text": [
      " 1 CDR                            0.448207\n",
      " 2 MMSE                           0.185098\n",
      " 3 nWBV                           0.090516\n",
      " 4 eTIV                           0.064560\n",
      " 5 ASF                            0.063553\n",
      " 6 Age                            0.057779\n",
      " 7 SES                            0.039790\n",
      " 8 EDUC                           0.039517\n",
      " 9 M/F                            0.010981\n"
     ]
    },
    {
     "data": {
      "image/png": "[encoded data removed]",
      "text/plain": [
       "<Figure size 432x288 with 1 Axes>"
      ]
     },
     "metadata": {
      "needs_background": "light"
     },
     "output_type": "display_data"
    }
   ],
   "source": [
    "from sklearn.ensemble import RandomForestClassifier\n",
    "feat_labels = df.columns[1:]\n",
    "forest = RandomForestClassifier(n_estimators = 500, random_state = 1)\n",
    "\n",
    "forest.fit(X_train, y_train)\n",
    "importances = forest.feature_importances_\n",
    "\n",
    "indices = np.argsort(importances)[::-1]\n",
    "for f in range(X_train.shape[1]):\n",
    "    print(\"%2d %-*s %f\" %(f + 1, 30, feat_labels[indices[f]], importances[indices[f]]))\n",
    "    \n",
    "plt.title('Feature Importance')\n",
    "plt.bar(range(X_train.shape[1]), importances[indices], align='center')\n",
    "\n",
    "plt.xticks(range(X_train.shape[1]), feat_labels[indices], rotation=90)\n",
    "plt.xlim ([-1, X_train.shape[1]])\n",
    "\n",
    "plt.tight_layout()\n",
    "plt.show()"
   ]
  },
  {
   "cell_type": "code",
   "execution_count": 132,
   "id": "ff76af5b",
   "metadata": {},
   "outputs": [
    {
     "name": "stdout",
     "output_type": "stream",
     "text": [
      "Number of features that meet this threshold criterion: 2\n",
      " 1) CDR                            0.448207\n",
      " 2) MMSE                           0.185098\n"
     ]
    }
   ],
   "source": [
    "from sklearn.feature_selection import SelectFromModel\n",
    "\n",
    "sfm = SelectFromModel(forest, threshold=0.1, prefit=True)\n",
    "X_selected = sfm.transform(X_train)\n",
    "print('Number of features that meet this threshold', 'criterion:', X_selected.shape[1])\n",
    "\n",
    "for f in range(X_selected.shape[1]):\n",
    "    print(\"%2d) %-*s %f\" % (f + 1, 30, \n",
    "                            feat_labels[indices[f]], \n",
    "                            importances[indices[f]]))"
   ]
  },
  {
   "cell_type": "markdown",
   "id": "3d38b5e7",
   "metadata": {},
   "source": [
    "#### Based on the above result, the 5th column (MMSE) and the 6th column (CDR) are good option for feature selection to work with"
   ]
  },
  {
   "cell_type": "markdown",
   "id": "ffa806ec",
   "metadata": {},
   "source": [
    "### ---------------------------------------------------------------------------------------------------------------"
   ]
  },
  {
   "cell_type": "markdown",
   "id": "a41a5ac1",
   "metadata": {},
   "source": [
    "### Compressing Data via Dimensionality Reduction"
   ]
  },
  {
   "cell_type": "code",
   "execution_count": 133,
   "id": "18acefe6",
   "metadata": {},
   "outputs": [],
   "source": [
    "from sklearn.preprocessing import StandardScaler\n",
    "\n",
    "stdsc = StandardScaler()\n",
    "X_train_std = stdsc.fit_transform(X_train)\n",
    "X_test_std = stdsc.transform(X_test)"
   ]
  },
  {
   "cell_type": "code",
   "execution_count": 134,
   "id": "59c959e3",
   "metadata": {},
   "outputs": [
    {
     "name": "stdout",
     "output_type": "stream",
     "text": [
      "\n",
      "\n",
      "cov_mat: \n",
      "[[ 1.0038e+00 -2.1772e-02  1.1351e-01 -4.3722e-02 -1.4881e-01  1.5034e-01\n",
      "   5.8237e-01 -2.2369e-01 -5.6975e-01]\n",
      " [-2.1772e-02  1.0038e+00 -1.6886e-02 -5.8215e-02  5.1171e-02  3.9527e-02\n",
      "   7.0571e-02 -5.3118e-01 -6.8623e-02]\n",
      " [ 1.1351e-01 -1.6886e-02  1.0038e+00 -7.3341e-01  1.8763e-01 -1.4827e-01\n",
      "   2.5567e-01 -2.0100e-03 -2.4050e-01]\n",
      " [-4.3722e-02 -5.8215e-02 -7.3341e-01  1.0038e+00 -1.1134e-01  6.1394e-02\n",
      "  -2.3447e-01  9.0358e-02  2.2409e-01]\n",
      " [-1.4881e-01  5.1171e-02  1.8763e-01 -1.1134e-01  1.0038e+00 -6.7209e-01\n",
      "  -1.6976e-02  3.5725e-01  2.4744e-02]\n",
      " [ 1.5034e-01  3.9527e-02 -1.4827e-01  6.1394e-02 -6.7209e-01  1.0038e+00\n",
      "  -1.5550e-02 -3.6851e-01  6.5426e-04]\n",
      " [ 5.8237e-01  7.0571e-02  2.5567e-01 -2.3447e-01 -1.6976e-02 -1.5550e-02\n",
      "   1.0038e+00 -2.1006e-01 -9.9213e-01]\n",
      " [-2.2369e-01 -5.3118e-01 -2.0100e-03  9.0358e-02  3.5725e-01 -3.6851e-01\n",
      "  -2.1006e-01  1.0038e+00  2.1581e-01]\n",
      " [-5.6975e-01 -6.8623e-02 -2.4050e-01  2.2409e-01  2.4744e-02  6.5426e-04\n",
      "  -9.9213e-01  2.1581e-01  1.0038e+00]]\n",
      "\n",
      "\n",
      "EigneValues \n",
      "[2.7978 2.1337 1.4316 1.2302 0.0113 0.5169 0.3645 0.2541 0.2945]\n",
      "\n",
      "\n",
      "EigenVectors: \n",
      "[[-0.4164  0.0994 -0.3092 -0.0169 -0.018  -0.8177 -0.0857 -0.1545  0.1438]\n",
      " [-0.1209  0.1555  0.4791  0.6162 -0.007   0.003  -0.4147  0.0095  0.424 ]\n",
      " [-0.2681 -0.3802  0.3836 -0.343  -0.009  -0.1582  0.0029  0.6929  0.1163]\n",
      " [ 0.2669  0.3115 -0.4807  0.3405  0.0029 -0.0536  0.0244  0.6934  0.0189]\n",
      " [ 0.0844 -0.535  -0.0181  0.4     0.0063 -0.1924 -0.3099  0.0124 -0.6427]\n",
      " [-0.0873  0.5305  0.1101 -0.3756  0.014   0.0508 -0.6184  0.0928 -0.405 ]\n",
      " [-0.542  -0.0686 -0.2534  0.1071  0.7132  0.3385 -0.0302  0.0359 -0.0196]\n",
      " [ 0.2645 -0.3855 -0.3929 -0.2496 -0.0065  0.1246 -0.5827 -0.0607  0.4538]\n",
      " [ 0.5389  0.0583  0.2561 -0.1075  0.7005 -0.3656  0.0341 -0.037   0.0473]]\n"
     ]
    }
   ],
   "source": [
    "cov_mat = np.cov(X_train_std.T)\n",
    "eigen_vals, eigen_vecs = np.linalg.eig(cov_mat)\n",
    "print('\\n\\ncov_mat: \\n%s' %cov_mat)\n",
    "\n",
    "print('\\n\\nEigneValues \\n%s'% eigen_vals)\n",
    "print('\\n\\nEigenVectors: \\n%s'% eigen_vecs)"
   ]
  },
  {
   "cell_type": "code",
   "execution_count": 135,
   "id": "30615344",
   "metadata": {},
   "outputs": [
    {
     "name": "stdout",
     "output_type": "stream",
     "text": [
      "var_exp [0.3096775697370592, 0.23616655172644532, 0.1584554268893861, 0.13616252650718122, 0.05721421337412565, 0.040349773644837626, 0.032595600282371115, 0.028129497621404365, 0.0012488402171893511]\n",
      "Cum_var_exp [0.3097 0.5458 0.7043 0.8405 0.8977 0.938  0.9706 0.9988 1.    ]\n"
     ]
    },
    {
     "data": {
      "image/png": "[encoded data removed]",
      "text/plain": [
       "<Figure size 432x288 with 1 Axes>"
      ]
     },
     "metadata": {
      "needs_background": "light"
     },
     "output_type": "display_data"
    }
   ],
   "source": [
    "tot = sum(eigen_vals)\n",
    "\n",
    "var_exp = [(i / tot) for i in sorted(eigen_vals, reverse = True)]\n",
    "print('var_exp', var_exp)\n",
    "cum_var_exp = np.cumsum(var_exp)\n",
    "print('Cum_var_exp', cum_var_exp)\n",
    "\n",
    "import matplotlib.pyplot as plt\n",
    "\n",
    "plt.bar(range(1, 10), var_exp, alpha=0.5, align='center', label='Individual explained varience')\n",
    "plt.step(range(1, 10), cum_var_exp, where='mid', label='Comulative explained variance')\n",
    "\n",
    "plt.ylabel('Explained varience ratio')\n",
    "plt.xlabel('Principal component index')\n",
    "plt.legend(loc='best')\n",
    "plt.tight_layout()\n",
    "plt.show()\n",
    "\n",
    "# Up to the 4th columns of the data, it covering almost 85% of the data. "
   ]
  },
  {
   "cell_type": "code",
   "execution_count": 136,
   "id": "cc198c3d",
   "metadata": {},
   "outputs": [
    {
     "name": "stdout",
     "output_type": "stream",
     "text": [
      "[(2.79781773581674, array([-0.4164, -0.1209, -0.2681,  0.2669,  0.0844, -0.0873, -0.542 ,\n",
      "        0.2645,  0.5389])), (2.1336739615593094, array([ 0.0994,  0.1555, -0.3802,  0.3115, -0.535 ,  0.5305, -0.0686,\n",
      "       -0.3855,  0.0583])), (1.4315838375506469, array([-0.3092,  0.4791,  0.3836, -0.4807, -0.0181,  0.1101, -0.2534,\n",
      "       -0.3929,  0.2561])), (1.2301760567898803, array([-0.0169,  0.6162, -0.343 ,  0.3405,  0.4   , -0.3756,  0.1071,\n",
      "       -0.2496, -0.1075])), (0.011282791039145338, array([-0.018 , -0.007 , -0.009 ,  0.0029,  0.0063,  0.014 ,  0.7132,\n",
      "       -0.0065,  0.7005])), (0.5169084123685432, array([-0.8177,  0.003 , -0.1582, -0.0536, -0.1924,  0.0508,  0.3385,\n",
      "        0.1246, -0.3656])), (0.3645446857373987, array([-0.0857, -0.4147,  0.0029,  0.0244, -0.3099, -0.6184, -0.0302,\n",
      "       -0.5827,  0.0341])), (0.2541391919718419, array([-0.1545,  0.0095,  0.6929,  0.6934,  0.0124,  0.0928,  0.0359,\n",
      "       -0.0607, -0.037 ])), (0.29448871178188385, array([ 0.1438,  0.424 ,  0.1163,  0.0189, -0.6427, -0.405 , -0.0196,\n",
      "        0.4538,  0.0473]))]\n",
      "Eigen Pairs:  [(2.79781773581674, array([-0.4164, -0.1209, -0.2681,  0.2669,  0.0844, -0.0873, -0.542 ,\n",
      "        0.2645,  0.5389])), (2.1336739615593094, array([ 0.0994,  0.1555, -0.3802,  0.3115, -0.535 ,  0.5305, -0.0686,\n",
      "       -0.3855,  0.0583])), (1.4315838375506469, array([-0.3092,  0.4791,  0.3836, -0.4807, -0.0181,  0.1101, -0.2534,\n",
      "       -0.3929,  0.2561])), (1.2301760567898803, array([-0.0169,  0.6162, -0.343 ,  0.3405,  0.4   , -0.3756,  0.1071,\n",
      "       -0.2496, -0.1075])), (0.5169084123685432, array([-0.8177,  0.003 , -0.1582, -0.0536, -0.1924,  0.0508,  0.3385,\n",
      "        0.1246, -0.3656])), (0.3645446857373987, array([-0.0857, -0.4147,  0.0029,  0.0244, -0.3099, -0.6184, -0.0302,\n",
      "       -0.5827,  0.0341])), (0.29448871178188385, array([ 0.1438,  0.424 ,  0.1163,  0.0189, -0.6427, -0.405 , -0.0196,\n",
      "        0.4538,  0.0473])), (0.2541391919718419, array([-0.1545,  0.0095,  0.6929,  0.6934,  0.0124,  0.0928,  0.0359,\n",
      "       -0.0607, -0.037 ])), (0.011282791039145338, array([-0.018 , -0.007 , -0.009 ,  0.0029,  0.0063,  0.014 ,  0.7132,\n",
      "       -0.0065,  0.7005]))]\n"
     ]
    }
   ],
   "source": [
    "# Make a list of (eigenvalue, eigenvector) tuples\n",
    "eigen_pairs = [(np.abs(eigen_vals[i]), eigen_vecs[:, i]) for i in range(len(eigen_vals))]\n",
    "print(eigen_pairs)\n",
    "\n",
    "# Sort the (eigenvalue, eigenvector) tuples from high to low\n",
    "eigen_pairs.sort (key=lambda k: k[0], reverse=True)\n",
    "print('Eigen Pairs: ', eigen_pairs)"
   ]
  },
  {
   "cell_type": "code",
   "execution_count": 137,
   "id": "e08ca593",
   "metadata": {},
   "outputs": [
    {
     "name": "stdout",
     "output_type": "stream",
     "text": [
      "Matrix W: \n",
      " [[-0.4164  0.0994]\n",
      " [-0.1209  0.1555]\n",
      " [-0.2681 -0.3802]\n",
      " [ 0.2669  0.3115]\n",
      " [ 0.0844 -0.535 ]\n",
      " [-0.0873  0.5305]\n",
      " [-0.542  -0.0686]\n",
      " [ 0.2645 -0.3855]\n",
      " [ 0.5389  0.0583]]\n"
     ]
    }
   ],
   "source": [
    "w =  np.hstack((eigen_pairs[0][1][:, np.newaxis], eigen_pairs[1][1][:, np.newaxis]))\n",
    "print('Matrix W: \\n', w)"
   ]
  },
  {
   "cell_type": "code",
   "execution_count": 138,
   "id": "5c5b852c",
   "metadata": {},
   "outputs": [
    {
     "data": {
      "text/plain": [
       "array([-1.5204, -0.9866])"
      ]
     },
     "execution_count": 138,
     "metadata": {},
     "output_type": "execute_result"
    }
   ],
   "source": [
    "X_train_std[0].dot(w)"
   ]
  },
  {
   "cell_type": "code",
   "execution_count": 139,
   "id": "d81c71ab",
   "metadata": {},
   "outputs": [
    {
     "name": "stdout",
     "output_type": "stream",
     "text": [
      "[[-1.5204e+00 -9.8664e-01]\n",
      " [ 1.8075e-01  1.0546e+00]\n",
      " [ 4.1724e-01  2.9687e+00]\n",
      " [ 1.8212e+00  1.8633e+00]\n",
      " [-2.5456e+00 -1.1673e+00]\n",
      " [ 1.5570e+00 -7.5948e-01]\n",
      " [-2.6099e+00 -1.2099e+00]\n",
      " [ 1.7191e+00 -3.9156e-01]\n",
      " [-1.2941e+00  1.5575e-01]\n",
      " [ 2.2713e+00 -1.6730e+00]\n",
      " [ 2.5751e+00 -1.8765e+00]\n",
      " [ 2.1197e+00 -1.6727e+00]\n",
      " [ 9.9549e-01  3.4350e-01]\n",
      " [ 1.8617e+00 -3.7588e-01]\n",
      " [-2.8325e+00  1.1213e-01]\n",
      " [-1.4101e+00 -1.1576e+00]\n",
      " [ 2.4373e-01 -6.6754e-01]\n",
      " [ 7.2252e-01 -1.0427e+00]\n",
      " [ 4.8029e-01  1.4031e+00]\n",
      " [ 3.4480e-01 -6.3809e-01]\n",
      " [ 7.9731e-01 -1.5022e+00]\n",
      " [ 2.7639e-01 -2.2585e+00]\n",
      " [ 7.6815e-01 -5.4813e-02]\n",
      " [ 3.0279e-01 -8.7727e-01]\n",
      " [ 2.1375e+00 -2.3883e+00]\n",
      " [ 8.6823e-01 -7.8104e-01]\n",
      " [ 2.4144e+00  6.3869e-01]\n",
      " [ 8.4644e-01 -1.0068e+00]\n",
      " [ 9.9683e-01  2.4546e+00]\n",
      " [-2.0755e+00 -9.3810e-01]\n",
      " [-6.9507e-01 -6.1424e-01]\n",
      " [-2.6396e+00 -2.1091e+00]\n",
      " [ 1.7123e+00  4.5426e-02]\n",
      " [-1.9880e+00 -1.9033e+00]\n",
      " [ 6.5109e-01 -1.2204e+00]\n",
      " [-9.9139e-01 -1.6494e+00]\n",
      " [-1.7075e+00 -4.3961e-01]\n",
      " [-1.6820e+00  1.9826e-01]\n",
      " [ 1.9018e-01 -1.8250e+00]\n",
      " [-5.1585e-01  1.6939e+00]\n",
      " [ 1.3017e+00  2.5607e-01]\n",
      " [ 1.8889e-01 -7.5180e-01]\n",
      " [-2.6376e+00 -1.2741e-02]\n",
      " [-1.8595e+00 -2.0307e+00]\n",
      " [-1.8934e+00 -8.2458e-01]\n",
      " [-3.6162e+00 -4.0516e-01]\n",
      " [ 2.7262e+00  2.2110e-01]\n",
      " [ 7.9381e-01 -2.5946e-01]\n",
      " [ 2.1597e+00 -1.5972e+00]\n",
      " [ 8.3926e-01  1.0736e-01]\n",
      " [ 1.8381e+00  2.5089e-01]\n",
      " [ 5.8075e-01 -7.4233e-02]\n",
      " [-4.2736e-02  9.3915e-01]\n",
      " [-9.4260e-01  7.2143e-01]\n",
      " [ 6.4504e-01 -1.1096e+00]\n",
      " [-1.5111e+00 -1.4662e+00]\n",
      " [ 7.0062e-01 -1.8027e+00]\n",
      " [ 2.8501e-01  1.1886e+00]\n",
      " [-2.1673e+00 -1.1872e+00]\n",
      " [ 5.8821e-01 -2.8552e-01]\n",
      " [-8.5135e-01  4.8015e-01]\n",
      " [-2.0654e-01  1.1777e+00]\n",
      " [ 1.5963e+00 -7.0950e-01]\n",
      " [ 3.2194e+00 -1.4201e+00]\n",
      " [ 1.2290e+00  1.5876e+00]\n",
      " [-2.8719e+00 -1.5588e+00]\n",
      " [ 1.1376e-01  4.5539e+00]\n",
      " [-1.7016e+00 -7.7173e-01]\n",
      " [-4.7079e-01 -9.8399e-01]\n",
      " [-3.1841e-01 -8.1054e-01]\n",
      " [ 5.7716e-01 -1.8918e+00]\n",
      " [ 1.9726e+00 -8.5735e-01]\n",
      " [ 5.0810e-01 -1.1274e+00]\n",
      " [-2.9801e-01 -9.6295e-01]\n",
      " [ 1.0914e+00  2.2249e+00]\n",
      " [ 1.9455e+00 -4.5650e-01]\n",
      " [-1.4520e+00 -1.5580e+00]\n",
      " [-5.4985e-02 -9.5215e-01]\n",
      " [-7.9489e-02 -7.5925e-01]\n",
      " [ 2.3138e+00  1.0137e+00]\n",
      " [ 2.9892e-01 -9.6951e-01]\n",
      " [ 1.7070e+00  2.8764e+00]\n",
      " [-2.3114e+00 -1.3077e+00]\n",
      " [ 7.6872e-01  1.6168e-01]\n",
      " [ 3.2226e-01  2.8102e+00]\n",
      " [ 8.6514e-01 -1.6924e+00]\n",
      " [-3.2511e+00  3.9759e+00]\n",
      " [ 2.3379e-01  2.6545e+00]\n",
      " [ 2.3168e+00 -1.8875e+00]\n",
      " [ 6.4510e-01  6.1222e-01]\n",
      " [ 9.2714e-01 -1.7532e+00]\n",
      " [ 1.8679e+00  1.1805e-01]\n",
      " [-2.3901e+00 -1.2587e+00]\n",
      " [ 1.6638e+00 -9.4547e-01]\n",
      " [-1.2607e+00  4.4768e-01]\n",
      " [-1.4647e-01  1.3844e+00]\n",
      " [ 1.5722e+00  6.7708e-01]\n",
      " [-8.7193e-01  3.5926e+00]\n",
      " [ 1.5425e+00 -1.4375e+00]\n",
      " [-3.1989e+00  3.4622e+00]\n",
      " [ 1.9852e+00  3.5524e-02]\n",
      " [-2.4267e+00 -3.0865e-01]\n",
      " [-4.0790e-01  3.0636e+00]\n",
      " [ 5.1520e-01  1.1910e+00]\n",
      " [ 4.1599e-01  1.0204e+00]\n",
      " [ 1.7794e+00 -3.1996e-01]\n",
      " [ 8.1819e-01 -1.2846e+00]\n",
      " [ 2.0385e+00 -9.7029e-01]\n",
      " [-1.6163e+00  3.2405e+00]\n",
      " [ 2.4242e+00 -1.7077e+00]\n",
      " [-5.7834e-02  1.2857e+00]\n",
      " [-1.4843e+00 -9.9002e-01]\n",
      " [ 4.2318e-01  6.1340e-01]\n",
      " [-8.7500e-01 -1.6380e+00]\n",
      " [ 3.8885e+00  2.6092e+00]\n",
      " [ 1.1737e+00 -2.8736e+00]\n",
      " [ 1.6435e+00 -9.6879e-01]\n",
      " [ 1.8580e+00 -2.0248e+00]\n",
      " [ 5.7864e-01  7.0219e-01]\n",
      " [ 3.4355e-01  1.3746e+00]\n",
      " [ 9.5019e-01  3.6434e+00]\n",
      " [ 2.9111e-02  2.1162e+00]\n",
      " [ 3.9363e+00  2.1170e+00]\n",
      " [ 1.0239e+00 -1.4542e+00]\n",
      " [ 8.1427e-01  4.5126e-02]\n",
      " [ 2.1588e+00 -1.6575e+00]\n",
      " [ 1.2419e-02  2.5624e-01]\n",
      " [-2.5914e+00  1.4442e+00]\n",
      " [-2.8987e+00 -1.8766e+00]\n",
      " [ 4.7154e-02  1.9606e-01]\n",
      " [-1.2752e-01  7.7450e-01]\n",
      " [ 2.9333e-01 -1.0372e+00]\n",
      " [-3.9107e+00 -8.0166e-01]\n",
      " [-1.2591e+00 -1.0529e+00]\n",
      " [-2.0542e+00  1.7532e-01]\n",
      " [-3.7151e+00 -1.1301e-01]\n",
      " [-1.0591e+00 -1.6284e+00]\n",
      " [-1.3513e-01 -1.0890e+00]\n",
      " [-1.0560e+00  2.6328e-01]\n",
      " [ 6.2941e-01 -2.2897e-02]\n",
      " [-1.1871e+00 -1.5736e+00]\n",
      " [ 1.9757e-01  3.7704e+00]\n",
      " [-1.0693e+00 -9.8331e-01]\n",
      " [-3.1511e-01 -1.4249e+00]\n",
      " [-2.3857e+00 -6.7230e-01]\n",
      " [ 1.2989e+00 -1.5875e+00]\n",
      " [-3.6328e-01  1.4138e+00]\n",
      " [-9.1987e-01 -1.6983e+00]\n",
      " [-1.6853e+00  1.2110e+00]\n",
      " [ 1.5204e+00  2.5402e+00]\n",
      " [ 6.5404e-01  4.0248e-01]\n",
      " [ 6.2308e-01 -2.9264e-01]\n",
      " [-9.9004e-01  1.1724e+00]\n",
      " [-2.0479e+00 -3.8453e-01]\n",
      " [-2.0010e+00  1.6510e+00]\n",
      " [ 8.7524e-01  1.4250e-01]\n",
      " [-2.7103e+00 -1.1553e+00]\n",
      " [-1.7578e+00  1.9124e+00]\n",
      " [ 1.0852e+00  3.4469e+00]\n",
      " [-2.8184e+00 -2.1415e+00]\n",
      " [ 1.3023e+00  1.1058e+00]\n",
      " [ 2.3381e+00 -1.6738e+00]\n",
      " [-3.4408e+00 -1.4815e+00]\n",
      " [ 2.2026e+00 -8.5112e-01]\n",
      " [-3.1758e+00 -1.1689e+00]\n",
      " [ 3.8381e-01  1.0328e+00]\n",
      " [-1.6809e+00  1.4474e+00]\n",
      " [ 1.5402e+00 -6.9526e-01]\n",
      " [-1.9413e+00 -5.3402e-01]\n",
      " [ 1.3570e+00  1.5870e+00]\n",
      " [ 1.8004e+00 -1.7807e+00]\n",
      " [-2.0923e+00 -1.3477e+00]\n",
      " [-1.3124e+00 -1.5896e+00]\n",
      " [-2.3379e-01 -1.5043e+00]\n",
      " [ 7.7193e-01 -9.9252e-01]\n",
      " [ 1.6065e+00 -5.5772e-02]\n",
      " [-9.2852e-03 -1.6647e+00]\n",
      " [ 7.6034e-01  1.9408e+00]\n",
      " [-1.3958e+00  1.5198e+00]\n",
      " [-2.7305e+00  1.3803e-01]\n",
      " [ 2.4711e+00  6.3997e-01]\n",
      " [ 1.0070e-01 -6.8900e-01]\n",
      " [-1.4697e+00  1.0503e+00]\n",
      " [ 4.7954e-01  3.1277e+00]\n",
      " [ 1.3117e+00 -1.4292e-01]\n",
      " [-2.8858e+00 -2.0660e-01]\n",
      " [-2.4035e+00 -1.0335e+00]\n",
      " [-1.1305e-01  3.6210e-01]\n",
      " [ 1.1628e+00 -1.1298e+00]\n",
      " [-4.1813e-02  1.2104e+00]\n",
      " [ 1.5298e+00  2.3247e+00]\n",
      " [-2.5500e+00 -2.3270e-01]\n",
      " [-1.8093e+00  9.8403e-01]\n",
      " [ 2.5184e+00  5.7766e-01]\n",
      " [-9.9118e-01  9.1826e-01]\n",
      " [ 1.5112e+00  1.1235e+00]\n",
      " [-1.6872e+00  1.4227e+00]\n",
      " [ 7.2117e-01 -1.6985e+00]\n",
      " [-1.1218e+00 -2.6710e-01]\n",
      " [ 1.4088e+00  5.5532e-01]\n",
      " [ 6.4423e-01  1.5796e+00]\n",
      " [ 1.4773e+00 -1.5332e+00]\n",
      " [-2.1363e+00  2.1810e+00]\n",
      " [-2.3752e+00 -2.6710e-01]\n",
      " [ 7.7890e-02 -7.7026e-01]\n",
      " [ 2.2415e-01  2.2983e+00]\n",
      " [-2.9985e+00  1.1933e+00]\n",
      " [-3.0789e+00 -1.2858e+00]\n",
      " [-2.5377e+00 -2.3386e-01]\n",
      " [-1.3981e+00  3.3029e-01]\n",
      " [-2.4221e-01  2.2304e+00]\n",
      " [ 1.1359e+00 -7.4722e-01]\n",
      " [-1.9996e+00  2.0335e+00]\n",
      " [ 7.4444e-01  1.5039e-01]\n",
      " [-1.9979e+00  3.1637e-01]\n",
      " [ 1.5763e+00  3.9240e-01]\n",
      " [ 3.8078e-01  8.8574e-01]\n",
      " [ 2.0931e+00 -6.8841e-01]\n",
      " [ 1.2592e+00  2.3744e+00]\n",
      " [ 2.1480e+00 -5.4869e-01]\n",
      " [ 1.5839e-01 -8.5629e-01]\n",
      " [ 1.7392e+00 -2.6952e-01]\n",
      " [-6.3732e-01  3.3117e+00]\n",
      " [-6.4213e-02  2.9212e-01]\n",
      " [ 1.1702e+00 -3.9970e-01]\n",
      " [ 1.2156e+00 -9.7274e-01]\n",
      " [ 5.1760e-01  6.6156e-01]\n",
      " [-1.1661e+00  1.3589e+00]\n",
      " [-4.0254e-01  1.7952e+00]\n",
      " [-1.7589e+00  1.8075e+00]\n",
      " [-1.0356e+00  7.4227e-01]\n",
      " [-2.6102e+00 -5.1706e-01]\n",
      " [ 8.8515e-01 -9.8779e-01]\n",
      " [ 7.8102e-01 -1.6606e+00]\n",
      " [ 1.9332e+00  1.7338e+00]\n",
      " [-3.4790e-01  1.7467e+00]\n",
      " [-3.3196e+00 -1.1827e+00]\n",
      " [ 1.3348e+00 -3.2620e-01]\n",
      " [ 1.3718e+00 -1.0160e+00]\n",
      " [ 8.0021e-01 -4.1286e-01]\n",
      " [ 7.8707e-01 -9.7935e-01]\n",
      " [ 2.0996e-01 -1.8469e+00]\n",
      " [ 3.1814e+00 -1.0289e+00]\n",
      " [ 8.3542e-01  6.4020e-01]\n",
      " [ 2.5990e+00  3.0033e-01]\n",
      " [-1.5393e-01  5.5984e-01]\n",
      " [ 1.5044e+00 -1.7281e+00]\n",
      " [-1.7543e+00  3.4869e+00]\n",
      " [ 1.4027e+00  9.3761e-04]\n",
      " [ 1.8006e+00 -3.8886e-01]\n",
      " [ 1.4099e+00 -7.9019e-01]\n",
      " [ 2.0192e+00 -8.8354e-01]\n",
      " [ 1.8020e-01 -1.0410e+00]\n",
      " [-3.8489e+00 -3.7468e-01]\n",
      " [-4.1694e-01 -6.1262e-01]\n",
      " [ 1.0797e+00 -1.9088e+00]\n",
      " [-2.1988e+00 -1.7855e+00]\n",
      " [-2.4181e-01  1.1460e+00]\n",
      " [-1.9952e+00  4.5393e-01]\n",
      " [ 2.7025e+00  1.4089e+00]\n",
      " [ 2.7311e+00  8.4548e-01]]\n"
     ]
    }
   ],
   "source": [
    "X_train_pca = X_train_std.dot(w)\n",
    "print(X_train_pca)"
   ]
  },
  {
   "cell_type": "code",
   "execution_count": 140,
   "id": "c3c32f01",
   "metadata": {},
   "outputs": [
    {
     "data": {
      "image/png": "[encoded data removed]",
      "text/plain": [
       "<Figure size 432x288 with 1 Axes>"
      ]
     },
     "metadata": {
      "needs_background": "light"
     },
     "output_type": "display_data"
    }
   ],
   "source": [
    "colors = ['r', 'b', 'g']\n",
    "markers = ['s', 'x', 'o']\n",
    "\n",
    "for l, c, m in zip(np.unique(y_train), colors, markers):\n",
    "    plt.scatter(X_train_pca[y_train==l, 0],\n",
    "               X_train_pca[y_train==l, 1],\n",
    "               c=c, label =1, marker=m)\n",
    "\n",
    "plt.xlabel('PC 1')\n",
    "plt.ylabel('PC 2')\n",
    "plt.legend(loc='lower left')\n",
    "plt.tight_layout()\n",
    "plt.show()"
   ]
  },
  {
   "cell_type": "markdown",
   "id": "7e9f827a",
   "metadata": {},
   "source": [
    "### Linear Discriminant analysis"
   ]
  },
  {
   "cell_type": "code",
   "execution_count": 141,
   "id": "d1918c08",
   "metadata": {},
   "outputs": [
    {
     "name": "stdout",
     "output_type": "stream",
     "text": [
      "MV 1: [ 0.2863 -0.0352 -0.3211  0.2469 -0.7692  0.9975 -0.0494 -0.4055  0.0377]\n",
      "\n",
      "MV 2: [-0.1608 -0.0419  0.2152 -0.0692  0.5287 -0.7579  0.0883  0.337  -0.0729]\n",
      "\n"
     ]
    }
   ],
   "source": [
    "np.set_printoptions(precision = 4)\n",
    "mean_vecs = []\n",
    "for label in range(1, 3): \n",
    "    mean_vecs.append(np.mean(X_train_std[y_train==label], axis = 0))\n",
    "    print('MV %s: %s\\n' % (label, mean_vecs[label-1]))"
   ]
  },
  {
   "cell_type": "code",
   "execution_count": 142,
   "id": "7cb638c6",
   "metadata": {},
   "outputs": [
    {
     "name": "stdout",
     "output_type": "stream",
     "text": [
      "Within class scatter matrix: 9x9\n"
     ]
    }
   ],
   "source": [
    "d = 9 #number of features\n",
    "S_W = np.zeros((d,d))\n",
    "\n",
    "for label, mv in zip(range(1,4), mean_vecs):\n",
    "    class_scatter = np.zeros((d, d))\n",
    "\n",
    "for row in X_train_std[y_train == label]:\n",
    "    row, mv = row.reshape(d, 1), mv.reshape(d, 1)\n",
    "    class_scatter += (row - mv).dot((row - mv).T)\n",
    "    S_W += class_scatter\n",
    "    \n",
    "print('Within class scatter matrix: %sx%s' %(S_W.shape[0], S_W.shape[1]))"
   ]
  },
  {
   "cell_type": "code",
   "execution_count": 144,
   "id": "6d1fab13",
   "metadata": {},
   "outputs": [
    {
     "name": "stdout",
     "output_type": "stream",
     "text": [
      "Scaled within-class scatter matrix: 9x9\n"
     ]
    }
   ],
   "source": [
    "d = 9 # number of features\n",
    "S_W = np.zeros((d, d))\n",
    "for label, mv in zip(range(1, 4), mean_vecs):\n",
    "    class_scatter = np.cov(X_train_std[y_train == label].T)\n",
    "    S_W += class_scatter\n",
    "\n",
    "print('Scaled within-class scatter matrix: %sx%s' % (S_W.shape[0], S_W.shape[1]))"
   ]
  },
  {
   "cell_type": "code",
   "execution_count": 146,
   "id": "8bac01f5",
   "metadata": {},
   "outputs": [
    {
     "name": "stdout",
     "output_type": "stream",
     "text": [
      "Between-class scatter matrix: 9x9\n"
     ]
    }
   ],
   "source": [
    "mean_overall = np.mean(X_train_std, axis = 0)\n",
    "d = 9 # number of features\n",
    "S_B = np.zeros((d, d))\n",
    "for i, mean_vec in enumerate(mean_vecs):\n",
    "    n= X_train_std[y_train == i + 1, :].shape[0]\n",
    "    mean_vec = mean_vec.reshape(d, 1) # make column vector\n",
    "    mean_overall = mean_overall.reshape(d, 1)\n",
    "    S_B += n * (mean_vec - mean_overall).dot((mean_vec - mean_overall).T)\n",
    "    \n",
    "print('Between-class scatter matrix: %sx%s' %(S_B.shape[0], S_B.shape[1]))"
   ]
  },
  {
   "cell_type": "code",
   "execution_count": 147,
   "id": "63944d0c",
   "metadata": {},
   "outputs": [],
   "source": [
    "eigen_vals, eigen_vecs = np.linalg.eig(np.linalg.inv(S_W).dot(S_B))"
   ]
  },
  {
   "cell_type": "code",
   "execution_count": 148,
   "id": "3b41b72c",
   "metadata": {},
   "outputs": [
    {
     "name": "stdout",
     "output_type": "stream",
     "text": [
      "Eigenvalues in descending order:\n",
      "\n",
      "318.5021489408426\n",
      "1.412673724941487\n",
      "2.448280229866919e-14\n",
      "1.2612998946453156e-14\n",
      "1.2612998946453156e-14\n",
      "5.964384245413927e-15\n",
      "5.95278134540196e-15\n",
      "5.95278134540196e-15\n",
      "1.625895022950713e-15\n"
     ]
    }
   ],
   "source": [
    "eigen_pairs = [(np.abs(eigen_vals[i]), eigen_vecs[:, i]) for i in range(len(eigen_vals))]\n",
    "eigen_pairs = sorted (eigen_pairs, key=lambda k: k[0], reverse=True)\n",
    "print('Eigenvalues in descending order:\\n')\n",
    "for eigen_val in eigen_pairs:\n",
    "    print(eigen_val[0])"
   ]
  },
  {
   "cell_type": "code",
   "execution_count": 150,
   "id": "f4d32adb",
   "metadata": {},
   "outputs": [
    {
     "data": {
      "image/png": "[encoded data removed]",
      "text/plain": [
       "<Figure size 432x288 with 1 Axes>"
      ]
     },
     "metadata": {
      "needs_background": "light"
     },
     "output_type": "display_data"
    }
   ],
   "source": [
    "tot = sum (eigen_vals.real)\n",
    "discr = [(i / tot) for i in sorted (eigen_vals.real, reverse=True)]\n",
    "\n",
    "cum_discr = np.cumsum(discr)\n",
    "plt.bar(range(1,10), discr, alpha = 0.5, align = 'center', label='Individual \"discriminability\"')\n",
    "plt.step(range(1, 10), cum_discr, where = 'mid', label='Cumulative \"didscrimiability\"')\n",
    "\n",
    "plt.ylabel('\"Discriminability\" ratio')\n",
    "plt.xlabel('Linear Discriminants')\n",
    "plt.ylim([-0.1, 1.1])\n",
    "plt.legend(loc='best')\n",
    "plt.tight_layout()\n",
    "plt.show()"
   ]
  },
  {
   "cell_type": "markdown",
   "id": "4b8127b7",
   "metadata": {},
   "source": [
    "#### Linear Discriminative analysis is focusing just on CDR column. "
   ]
  },
  {
   "cell_type": "markdown",
   "id": "c2b73cdc",
   "metadata": {},
   "source": [
    "### -----------------------------------------------------------------"
   ]
  },
  {
   "cell_type": "code",
   "execution_count": 152,
   "id": "e16284cd",
   "metadata": {},
   "outputs": [
    {
     "data": {
      "image/png": "[encoded data removed]",
      "text/plain": [
       "<Figure size 432x288 with 1 Axes>"
      ]
     },
     "metadata": {
      "needs_background": "light"
     },
     "output_type": "display_data"
    }
   ],
   "source": [
    "X_train_lda = X_train_std.dot(w)\n",
    "colors = ['r', 'b', 'g']\n",
    "markers = ['s', 'x', 'o']\n",
    "\n",
    "for l, c, m in zip(np.unique(y_train), colors, markers):\n",
    "    plt.scatter(X_train_lda[y_train == l, 0], X_train_lda[y_train == l, 1] * (-1), c=c, label = l, marker = m)\n",
    "    \n",
    "plt.xlabel('LD 1')\n",
    "plt.ylabel('LD 2')\n",
    "plt.legend(loc='lower right')\n",
    "plt.tight_layout()\n",
    "plt.show()"
   ]
  },
  {
   "cell_type": "markdown",
   "id": "633e1eb6",
   "metadata": {},
   "source": [
    "## LDA via scikit-learn"
   ]
  },
  {
   "cell_type": "code",
   "execution_count": 153,
   "id": "cbe098f9",
   "metadata": {},
   "outputs": [],
   "source": [
    "# the following import statement is one line\n",
    "from sklearn.discriminant_analysis import LinearDiscriminantAnalysis as LDA\n",
    "lda = LDA(n_components = 2)\n",
    "X_train_lda = lda.fit_transform(X_train_std, y_train)"
   ]
  },
  {
   "cell_type": "code",
   "execution_count": 155,
   "id": "5a19d994",
   "metadata": {},
   "outputs": [],
   "source": [
    "from matplotlib.colors import ListedColormap\n",
    "\n",
    "def plot_decision_regions(X, y, classifier, resolution=0.02):\n",
    "\n",
    "    # setup marker generator and color map\n",
    "    markers = ('s', 'x', 'o', '^', 'v')\n",
    "    colors = ('red', 'blue', 'lightgreen', 'gray', 'cyan')\n",
    "    cmap = ListedColormap(colors[:len(np.unique(y))])\n",
    "\n",
    "    # plot the decision surface\n",
    "    x1_min, x1_max = X[:, 0].min() - 1, X[:, 0].max() + 1\n",
    "    x2_min, x2_max = X[:, 1].min() - 1, X[:, 1].max() + 1\n",
    "    xx1, xx2 = np.meshgrid(np.arange(x1_min, x1_max, resolution),\n",
    "                           np.arange(x2_min, x2_max, resolution))\n",
    "    Z = classifier.predict(np.array([xx1.ravel(), xx2.ravel()]).T)\n",
    "    Z = Z.reshape(xx1.shape)\n",
    "    plt.contourf(xx1, xx2, Z, alpha=0.4, cmap=cmap)\n",
    "    plt.xlim(xx1.min(), xx1.max())\n",
    "    plt.ylim(xx2.min(), xx2.max())\n",
    "\n",
    "    # plot examples by class\n",
    "    for idx, cl in enumerate(np.unique(y)):\n",
    "        plt.scatter(x=X[y == cl, 0], \n",
    "                    y=X[y == cl, 1],\n",
    "                    alpha=0.6, \n",
    "                    color=cmap(idx),\n",
    "                    edgecolor='black',\n",
    "                    marker=markers[idx], \n",
    "                    label=cl)"
   ]
  },
  {
   "cell_type": "code",
   "execution_count": 156,
   "id": "6eef1e1f",
   "metadata": {},
   "outputs": [
    {
     "name": "stderr",
     "output_type": "stream",
     "text": [
      "/tmp/ipykernel_90368/49398212.py:23: UserWarning: You passed a edgecolor/edgecolors ('black') for an unfilled marker ('x').  Matplotlib is ignoring the edgecolor in favor of the facecolor.  This behavior may change in the future.\n",
      "  plt.scatter(x=X[y == cl, 0],\n"
     ]
    },
    {
     "data": {
      "image/png": "[encoded data removed]",
      "text/plain": [
       "<Figure size 432x288 with 1 Axes>"
      ]
     },
     "metadata": {
      "needs_background": "light"
     },
     "output_type": "display_data"
    }
   ],
   "source": [
    "lr = LogisticRegression(multi_class='ovr', random_state = 1, solver = 'lbfgs')\n",
    "lr = lr.fit(X_train_lda, y_train)\n",
    "\n",
    "plot_decision_regions(X_train_lda, y_train, classifier = lr)\n",
    "plt.xlabel('LD 1')\n",
    "plt.ylabel('LD 2')\n",
    "plt.legend(loc = 'lower left')\n",
    "plt.tight_layout()\n",
    "plt.show()"
   ]
  },
  {
   "cell_type": "markdown",
   "id": "3a3e46ae",
   "metadata": {},
   "source": [
    "#### Based on the above outcome, it shows that working with the two columns would be with much more errors that expected. "
   ]
  },
  {
   "cell_type": "code",
   "execution_count": null,
   "id": "9c17335c",
   "metadata": {},
   "outputs": [],
   "source": []
  },
  {
   "cell_type": "code",
   "execution_count": null,
   "id": "d95a925f",
   "metadata": {},
   "outputs": [],
   "source": []
  }
 ],
 "metadata": {
  "kernelspec": {
   "display_name": "Python 3 (ipykernel)",
   "language": "python",
   "name": "python3"
  },
  "language_info": {
   "codemirror_mode": {
    "name": "ipython",
    "version": 3
   },
   "file_extension": ".py",
   "mimetype": "text/x-python",
   "name": "python",
   "nbconvert_exporter": "python",
   "pygments_lexer": "ipython3",
   "version": "3.9.12"
  }
 },
 "nbformat": 4,
 "nbformat_minor": 5
}
